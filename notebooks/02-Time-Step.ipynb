{
 "cells": [
  {
   "cell_type": "markdown",
   "metadata": {
    "pycharm": {
     "name": "#%% md\n"
    }
   },
   "source": [
    "# Time-Step: hourly, bi-hourly, tri-hourly, etc.\n",
    "This notebook presents an example of the openTEPES' features: Time-Step. This feature controls the time domain's resolution, either hourly or bi-hourly, etc.\n",
    "The main point is that if Time-Step is not equal to 1, openTEPES compute the demand as the mean over the time step load levels and assign it to active load levels. Idem for operating reserve, variable max power, variable min, and max storage and inflows. For example, we perfom the next comparison."
   ]
  },
  {
   "cell_type": "markdown",
   "metadata": {},
   "source": [
    "## Comparison of the total output per technology considering TimeStep equal to 1 and 4"
   ]
  },
  {
   "cell_type": "code",
   "execution_count": 1,
   "metadata": {},
   "outputs": [],
   "source": [
    "import altair as alt\n",
    "import pandas as pd\n",
    "from openTEPES.openTEPES import openTEPES_run"
   ]
  },
  {
   "cell_type": "markdown",
   "metadata": {},
   "source": [
    "### Defining the DirName, CaseName, Solvername, and IndLogConsole."
   ]
  },
  {
   "cell_type": "code",
   "execution_count": 2,
   "metadata": {},
   "outputs": [],
   "source": [
    "DirName =''\n",
    "CaseName = '9n'\n",
    "SolverName = 'cbc'\n",
    "IndLogConsole = 'No'"
   ]
  },
  {
   "cell_type": "markdown",
   "metadata": {},
   "source": [
    "In the folder called ``9n``, you can find the CSV file ``oT_Data_Parameter_9n`` which is also shown as follows:"
   ]
  },
  {
   "cell_type": "code",
   "execution_count": 3,
   "metadata": {},
   "outputs": [
    {
     "data": {
      "text/html": [
       "<div>\n",
       "<style scoped>\n",
       "    .dataframe tbody tr th:only-of-type {\n",
       "        vertical-align: middle;\n",
       "    }\n",
       "\n",
       "    .dataframe tbody tr th {\n",
       "        vertical-align: top;\n",
       "    }\n",
       "\n",
       "    .dataframe thead th {\n",
       "        text-align: right;\n",
       "    }\n",
       "</style>\n",
       "<table border=\"1\" class=\"dataframe\">\n",
       "  <thead>\n",
       "    <tr style=\"text-align: right;\">\n",
       "      <th></th>\n",
       "      <th>ENSCost</th>\n",
       "      <th>CO2Cost</th>\n",
       "      <th>UpReserveActivation</th>\n",
       "      <th>DwReserveActivation</th>\n",
       "      <th>MinRatioDwUp</th>\n",
       "      <th>MaxRatioDwUp</th>\n",
       "      <th>SBase</th>\n",
       "      <th>ReferenceNode</th>\n",
       "      <th>TimeStep</th>\n",
       "    </tr>\n",
       "  </thead>\n",
       "  <tbody>\n",
       "    <tr>\n",
       "      <th>Parameters</th>\n",
       "      <td>10000</td>\n",
       "      <td>25</td>\n",
       "      <td>0.25</td>\n",
       "      <td>0.3</td>\n",
       "      <td>0</td>\n",
       "      <td>1</td>\n",
       "      <td>100</td>\n",
       "      <td>Node_4</td>\n",
       "      <td>4</td>\n",
       "    </tr>\n",
       "  </tbody>\n",
       "</table>\n",
       "</div>"
      ],
      "text/plain": [
       "            ENSCost  CO2Cost  UpReserveActivation  DwReserveActivation  \\\n",
       "Parameters    10000       25                 0.25                  0.3   \n",
       "\n",
       "            MinRatioDwUp  MaxRatioDwUp  SBase ReferenceNode  TimeStep  \n",
       "Parameters             0             1    100        Node_4         4  "
      ]
     },
     "execution_count": 3,
     "metadata": {},
     "output_type": "execute_result"
    }
   ],
   "source": [
    "df = pd.read_csv('9n/oT_Data_Parameter_9n.csv', index_col=[0])\n",
    "df.head()"
   ]
  },
  {
   "cell_type": "markdown",
   "metadata": {},
   "source": [
    "This CSV file comprises all the system parameters of the openTEPES mode. It has a column called TimeStep, that having ``1`` for hourly resolution, ``2`` for bi-hourly resolution, etc. In our example, we consider a TimeStep equal to ``1`` (hourly resolution) and equal to ``4`` (tetra-hourly resolution)."
   ]
  },
  {
   "cell_type": "markdown",
   "metadata": {},
   "source": [
    "### Having hourly resolution"
   ]
  },
  {
   "cell_type": "code",
   "execution_count": 4,
   "metadata": {},
   "outputs": [],
   "source": [
    "df['TimeStep'] = 1"
   ]
  },
  {
   "cell_type": "code",
   "execution_count": 5,
   "metadata": {},
   "outputs": [],
   "source": [
    "df.to_csv(CaseName+'/oT_Data_Parameter_'+CaseName+'.csv', index=True)"
   ]
  },
  {
   "cell_type": "code",
   "execution_count": 6,
   "metadata": {},
   "outputs": [
    {
     "name": "stdout",
     "output_type": "stream",
     "text": [
      "Input data                             ****\n"
     ]
    },
    {
     "name": "stderr",
     "output_type": "stream",
     "text": [
      "C:\\Users\\erik_\\miniconda3\\lib\\site-packages\\pandas\\core\\frame.py:5176: SettingWithCopyWarning: \n",
      "A value is trying to be set on a copy of a slice from a DataFrame\n",
      "\n",
      "See the caveats in the documentation: https://pandas.pydata.org/pandas-docs/stable/user_guide/indexing.html#returning-a-view-versus-a-copy\n",
      "  return super().fillna(\n",
      "C:\\Users\\erik_\\miniconda3\\lib\\site-packages\\pyomo\\core\\base\\block.py:541: PerformanceWarning: indexing past lexsort depth may impact performance.\n",
      "  self.add_component(name, val)\n"
     ]
    },
    {
     "name": "stdout",
     "output_type": "stream",
     "text": [
      "Reading    input data                  ...  0 s\n",
      "Setting up input data                  ...  18 s\n",
      "Setting up variables                   ...  8 s\n",
      "Investment           model formulation ****\n",
      "Generation operation model formulation ****\n",
      "Network    switching model formulation ****\n",
      "Network    operation model formulation ****\n",
      "Writing LP file                        ...  61 s\n",
      "Problem solving                        ****\n",
      "# ==========================================================\n",
      "# = Solver Results                                         =\n",
      "# ==========================================================\n",
      "# ----------------------------------------------------------\n",
      "#   Problem Information\n",
      "# ----------------------------------------------------------\n",
      "Problem: \n",
      "- Name: x1712273\n",
      "  Lower bound: 136.41411098938326\n",
      "  Upper bound: 136.41411098938326\n",
      "  Number of objectives: 1\n",
      "  Number of constraints: 899782\n",
      "  Number of variables: 1108851\n",
      "  Number of binary variables: 0\n",
      "  Number of integer variables: 0\n",
      "  Number of continuous variables: 1108851\n",
      "  Number of nonzeros: 3737808\n",
      "  Sense: minimize\n",
      "# ----------------------------------------------------------\n",
      "#   Solver Information\n",
      "# ----------------------------------------------------------\n",
      "Solver: \n",
      "- Status: ok\n",
      "  Return code: 0\n",
      "  Message: Model was solved to optimality (subject to tolerances), and an optimal solution is available.\n",
      "  Termination condition: optimal\n",
      "  Termination message: Model was solved to optimality (subject to tolerances), and an optimal solution is available.\n",
      "  Wall time: 53.4007625579834\n",
      "  Error rc: 0\n",
      "  Time: 67.77375864982605\n",
      "# ----------------------------------------------------------\n",
      "#   Solution Information\n",
      "# ----------------------------------------------------------\n",
      "Solution: \n",
      "- number of solutions: 0\n",
      "  number of solutions displayed: 0\n",
      "Solution time                          ...  126 s\n",
      "Total system      cost [MEUR]               136.41411098938107\n",
      "Total investment  cost [MEUR]               4.543914175410445\n",
      "Total generation  cost [MEUR]               131.87019681397064\n",
      "Total consumption cost [MEUR]               0.0\n",
      "Total emission    cost [MEUR]               0.0\n",
      "Total reliability cost [MEUR]               0.0\n",
      "Writing           investment results   ...  0 s\n",
      "Writing generation operation results   ...  25 s\n",
      "Writing        ESS operation results   ...  2 s\n",
      "Writing          flexibility results   ...  4 s\n",
      "Writing    network operation results   ...  4 s\n",
      "Writing marginal information results   ...  5 s\n",
      "Writing             economic results   ...  13 s\n",
      "Plotting network maps                  ...  1 s\n",
      "Total time                             ...  318 s\n"
     ]
    }
   ],
   "source": [
    "model_TS1 = openTEPES_run(DirName, CaseName, SolverName, IndLogConsole)"
   ]
  },
  {
   "cell_type": "markdown",
   "metadata": {},
   "source": [
    "### Having tetra-hourly resolution"
   ]
  },
  {
   "cell_type": "code",
   "execution_count": 7,
   "metadata": {},
   "outputs": [],
   "source": [
    "df['TimeStep'] = 4"
   ]
  },
  {
   "cell_type": "code",
   "execution_count": 8,
   "metadata": {},
   "outputs": [],
   "source": [
    "df.to_csv(CaseName+'/oT_Data_Parameter_'+CaseName+'.csv', index=True)"
   ]
  },
  {
   "cell_type": "code",
   "execution_count": 9,
   "metadata": {},
   "outputs": [
    {
     "name": "stdout",
     "output_type": "stream",
     "text": [
      "Input data                             ****\n",
      "Reading    input data                  ...  0 s\n"
     ]
    },
    {
     "name": "stderr",
     "output_type": "stream",
     "text": [
      "C:\\Users\\erik_\\miniconda3\\lib\\site-packages\\pyomo\\core\\base\\block.py:541: PerformanceWarning:\n",
      "\n",
      "indexing past lexsort depth may impact performance.\n",
      "\n"
     ]
    },
    {
     "name": "stdout",
     "output_type": "stream",
     "text": [
      "Setting up input data                  ...  5 s\n",
      "Setting up variables                   ...  2 s\n",
      "Investment           model formulation ****\n",
      "Generation operation model formulation ****\n",
      "Network    switching model formulation ****\n",
      "Network    operation model formulation ****\n",
      "Writing LP file                        ...  16 s\n",
      "Problem solving                        ****\n",
      "# ==========================================================\n",
      "# = Solver Results                                         =\n",
      "# ==========================================================\n",
      "# ----------------------------------------------------------\n",
      "#   Problem Information\n",
      "# ----------------------------------------------------------\n",
      "Problem: \n",
      "- Name: x428081\n",
      "  Lower bound: 142.15017491480492\n",
      "  Upper bound: 142.15017491480492\n",
      "  Number of objectives: 1\n",
      "  Number of constraints: 214031\n",
      "  Number of variables: 272626\n",
      "  Number of binary variables: 0\n",
      "  Number of integer variables: 0\n",
      "  Number of continuous variables: 272626\n",
      "  Number of nonzeros: 853275\n",
      "  Sense: minimize\n",
      "# ----------------------------------------------------------\n",
      "#   Solver Information\n",
      "# ----------------------------------------------------------\n",
      "Solver: \n",
      "- Status: ok\n",
      "  Return code: 0\n",
      "  Message: Model was solved to optimality (subject to tolerances), and an optimal solution is available.\n",
      "  Termination condition: optimal\n",
      "  Termination message: Model was solved to optimality (subject to tolerances), and an optimal solution is available.\n",
      "  Wall time: 9.024446487426758\n",
      "  Error rc: 0\n",
      "  Time: 13.003211498260498\n",
      "# ----------------------------------------------------------\n",
      "#   Solution Information\n",
      "# ----------------------------------------------------------\n",
      "Solution: \n",
      "- number of solutions: 0\n",
      "  number of solutions displayed: 0\n",
      "Solution time                          ...  28 s\n",
      "Total system      cost [MEUR]               142.15017491480427\n",
      "Total investment  cost [MEUR]               4.596940508255597\n",
      "Total generation  cost [MEUR]               137.55323440654868\n",
      "Total consumption cost [MEUR]               0.0\n",
      "Total emission    cost [MEUR]               0.0\n",
      "Total reliability cost [MEUR]               0.0\n",
      "Writing           investment results   ...  0 s\n",
      "Writing generation operation results   ...  7 s\n",
      "Writing        ESS operation results   ...  1 s\n",
      "Writing          flexibility results   ...  1 s\n",
      "Writing    network operation results   ...  1 s\n",
      "Writing marginal information results   ...  2 s\n",
      "Writing             economic results   ...  4 s\n",
      "Plotting network maps                  ...  0 s\n",
      "Total time                             ...  83 s\n"
     ]
    }
   ],
   "source": [
    "model_TS4 = openTEPES_run(DirName, CaseName, SolverName, IndLogConsole)"
   ]
  },
  {
   "cell_type": "markdown",
   "metadata": {},
   "source": [
    "### Getting the total output per technology"
   ]
  },
  {
   "cell_type": "code",
   "execution_count": 10,
   "metadata": {},
   "outputs": [],
   "source": [
    "OutputToFile_TS1 = pd.Series(data=[sum(model_TS1.vTotalOutput[sc,p,n,g]() for g in model_TS1.g if (gt,g) in model_TS1.t2g) for sc,p,n,gt in model_TS1.sc*model_TS1.p*model_TS1.n*model_TS1.gt], index=pd.MultiIndex.from_tuples(model_TS1.sc*model_TS1.p*model_TS1.n*model_TS1.gt))\n",
    "OutputToFile_TS1 = OutputToFile_TS1.to_frame(name='GW' ).reset_index().pivot_table(index=['level_0','level_1','level_2'], columns='level_3', values='GW').rename_axis(['Scenario','Period','LoadLevel'], axis=0).rename_axis([None], axis=1).sum(axis=0)"
   ]
  },
  {
   "cell_type": "code",
   "execution_count": 11,
   "metadata": {},
   "outputs": [],
   "source": [
    "OutputToFile_TS4 = pd.Series(data=[sum(model_TS4.vTotalOutput[sc,p,n,g]() for g in model_TS4.g if (gt,g) in model_TS4.t2g)*model_TS4.pTimeStep() for sc,p,n,gt in model_TS4.sc*model_TS4.p*model_TS4.n*model_TS4.gt], index=pd.MultiIndex.from_tuples(model_TS4.sc*model_TS4.p*model_TS4.n*model_TS4.gt))\n",
    "OutputToFile_TS4 = OutputToFile_TS4.to_frame(name='GW' ).reset_index().pivot_table(index=['level_0','level_1','level_2'], columns='level_3', values='GW').rename_axis(['Scenario','Period','LoadLevel'], axis=0).rename_axis([None], axis=1).sum(axis=0)"
   ]
  },
  {
   "cell_type": "code",
   "execution_count": 12,
   "metadata": {},
   "outputs": [],
   "source": [
    "OutputToFile_TS1.index.names = ['Technology']\n",
    "OutputToFile_TS1 = OutputToFile_TS1.to_frame(name='GWh')\n",
    "OutputToFile_TS1['Resolution'] = 'TimeStep-1'\n",
    "OutputToFile_TS1 = OutputToFile_TS1.reset_index()\n",
    "OutputToFile_TS4.index.names = ['Technology']\n",
    "OutputToFile_TS4 = OutputToFile_TS4.to_frame(name='GWh')\n",
    "OutputToFile_TS4['Resolution'] = 'TimeStep-4'\n",
    "OutputToFile_TS4 = OutputToFile_TS4.reset_index()"
   ]
  },
  {
   "cell_type": "code",
   "execution_count": 13,
   "metadata": {},
   "outputs": [],
   "source": [
    "OutputResults = pd.concat([OutputToFile_TS1, OutputToFile_TS4], axis=0)\n",
    "OutputResults['GWh'] = round(OutputResults['GWh'], 2)"
   ]
  },
  {
   "cell_type": "code",
   "execution_count": 14,
   "metadata": {},
   "outputs": [],
   "source": [
    "chart = alt.Chart(OutputResults).mark_bar().encode(x='Resolution:O', y='GWh:Q', color='Resolution:O', column='Technology:N')\n",
    "# chart.save(CaseName+'/oT_Plot_TechnologyOutputComparison_'+CaseName+'.html', embed_options={'renderer':'svg'})"
   ]
  },
  {
   "cell_type": "code",
   "execution_count": 15,
   "metadata": {},
   "outputs": [
    {
     "data": {
      "text/html": [
       "\n",
       "<div id=\"altair-viz-b311472d45cb42fba978b74ada328c55\"></div>\n",
       "<script type=\"text/javascript\">\n",
       "  var VEGA_DEBUG = (typeof VEGA_DEBUG == \"undefined\") ? {} : VEGA_DEBUG;\n",
       "  (function(spec, embedOpt){\n",
       "    let outputDiv = document.currentScript.previousElementSibling;\n",
       "    if (outputDiv.id !== \"altair-viz-b311472d45cb42fba978b74ada328c55\") {\n",
       "      outputDiv = document.getElementById(\"altair-viz-b311472d45cb42fba978b74ada328c55\");\n",
       "    }\n",
       "    const paths = {\n",
       "      \"vega\": \"https://cdn.jsdelivr.net/npm//vega@5?noext\",\n",
       "      \"vega-lib\": \"https://cdn.jsdelivr.net/npm//vega-lib?noext\",\n",
       "      \"vega-lite\": \"https://cdn.jsdelivr.net/npm//vega-lite@4.17.0?noext\",\n",
       "      \"vega-embed\": \"https://cdn.jsdelivr.net/npm//vega-embed@6?noext\",\n",
       "    };\n",
       "\n",
       "    function maybeLoadScript(lib, version) {\n",
       "      var key = `${lib.replace(\"-\", \"\")}_version`;\n",
       "      return (VEGA_DEBUG[key] == version) ?\n",
       "        Promise.resolve(paths[lib]) :\n",
       "        new Promise(function(resolve, reject) {\n",
       "          var s = document.createElement('script');\n",
       "          document.getElementsByTagName(\"head\")[0].appendChild(s);\n",
       "          s.async = true;\n",
       "          s.onload = () => {\n",
       "            VEGA_DEBUG[key] = version;\n",
       "            return resolve(paths[lib]);\n",
       "          };\n",
       "          s.onerror = () => reject(`Error loading script: ${paths[lib]}`);\n",
       "          s.src = paths[lib];\n",
       "        });\n",
       "    }\n",
       "\n",
       "    function showError(err) {\n",
       "      outputDiv.innerHTML = `<div class=\"error\" style=\"color:red;\">${err}</div>`;\n",
       "      throw err;\n",
       "    }\n",
       "\n",
       "    function displayChart(vegaEmbed) {\n",
       "      vegaEmbed(outputDiv, spec, embedOpt)\n",
       "        .catch(err => showError(`Javascript Error: ${err.message}<br>This usually means there's a typo in your chart specification. See the javascript console for the full traceback.`));\n",
       "    }\n",
       "\n",
       "    if(typeof define === \"function\" && define.amd) {\n",
       "      requirejs.config({paths});\n",
       "      require([\"vega-embed\"], displayChart, err => showError(`Error loading script: ${err.message}`));\n",
       "    } else {\n",
       "      maybeLoadScript(\"vega\", \"5\")\n",
       "        .then(() => maybeLoadScript(\"vega-lite\", \"4.17.0\"))\n",
       "        .then(() => maybeLoadScript(\"vega-embed\", \"6\"))\n",
       "        .catch(showError)\n",
       "        .then(() => displayChart(vegaEmbed));\n",
       "    }\n",
       "  })({\"config\": {\"view\": {\"continuousWidth\": 400, \"continuousHeight\": 300}}, \"data\": {\"name\": \"data-c0c7972c76972982885c70d3d261bb20\"}, \"mark\": \"bar\", \"encoding\": {\"color\": {\"field\": \"Resolution\", \"type\": \"ordinal\"}, \"column\": {\"field\": \"Technology\", \"type\": \"nominal\"}, \"x\": {\"field\": \"Resolution\", \"type\": \"ordinal\"}, \"y\": {\"field\": \"GWh\", \"type\": \"quantitative\"}}, \"$schema\": \"https://vega.github.io/schema/vega-lite/v4.17.0.json\", \"datasets\": {\"data-c0c7972c76972982885c70d3d261bb20\": [{\"Technology\": \"Coal\", \"GWh\": 0.0, \"Resolution\": \"TimeStep-1\"}, {\"Technology\": \"ESS\", \"GWh\": 386.81, \"Resolution\": \"TimeStep-1\"}, {\"Technology\": \"Gas\", \"GWh\": 674.63, \"Resolution\": \"TimeStep-1\"}, {\"Technology\": \"Nuclear\", \"GWh\": 6697.65, \"Resolution\": \"TimeStep-1\"}, {\"Technology\": \"Oil\", \"GWh\": 0.0, \"Resolution\": \"TimeStep-1\"}, {\"Technology\": \"RES\", \"GWh\": 1708.43, \"Resolution\": \"TimeStep-1\"}, {\"Technology\": \"Coal\", \"GWh\": 0.0, \"Resolution\": \"TimeStep-4\"}, {\"Technology\": \"ESS\", \"GWh\": 365.38, \"Resolution\": \"TimeStep-4\"}, {\"Technology\": \"Gas\", \"GWh\": 806.59, \"Resolution\": \"TimeStep-4\"}, {\"Technology\": \"Nuclear\", \"GWh\": 6719.76, \"Resolution\": \"TimeStep-4\"}, {\"Technology\": \"Oil\", \"GWh\": 0.0, \"Resolution\": \"TimeStep-4\"}, {\"Technology\": \"RES\", \"GWh\": 1551.98, \"Resolution\": \"TimeStep-4\"}]}}, {\"mode\": \"vega-lite\"});\n",
       "</script>"
      ],
      "text/plain": [
       "alt.Chart(...)"
      ]
     },
     "execution_count": 15,
     "metadata": {},
     "output_type": "execute_result"
    }
   ],
   "source": [
    "chart"
   ]
  },
  {
   "cell_type": "code",
   "execution_count": null,
   "metadata": {},
   "outputs": [],
   "source": []
  }
 ],
 "metadata": {
  "kernelspec": {
   "display_name": "Python 3 (ipykernel)",
   "language": "python",
   "name": "python3"
  },
  "language_info": {
   "codemirror_mode": {
    "name": "ipython",
    "version": 3
   },
   "file_extension": ".py",
   "mimetype": "text/x-python",
   "name": "python",
   "nbconvert_exporter": "python",
   "pygments_lexer": "ipython3",
   "version": "3.9.5"
  }
 },
 "nbformat": 4,
 "nbformat_minor": 1
}