{
 "cells": [
  {
   "cell_type": "markdown",
   "metadata": {},
   "source": [
    "# Demo: Exploratory Execution\n",
    "\n",
    "We start this tutorial from scratch in blank notebooks to whet your appetite for knowing the openTEPES."
   ]
  },
  {
   "cell_type": "markdown",
   "metadata": {},
   "source": [
    "## 1. Installation\n",
    "\n",
    "**[Recommendation]** If you are running this tutorial in Binder [![Binder](https://mybinder.org/badge_logo.svg)](https://mybinder.org/v2/gh/IIT-EnergySystemModels/openTEPES-tutorial/HEAD), ignore the installation step.\n",
    "\n",
    "In case, you prefer use your personal computer, the installation of the openTEPES model and its dependencies, please follow the section **installation** of the [README](https://github.com/IIT-EnergySystemModels/openTEPES#readme)."
   ]
  },
  {
   "cell_type": "markdown",
   "metadata": {},
   "source": [
    "## 2. Quick-run\n",
    "As a first step, we import the function ``openTEPES_run(DIR, CaseName, SolverName, pIndLogConsole)`` as:"
   ]
  },
  {
   "cell_type": "code",
   "execution_count": 1,
   "metadata": {
    "pycharm": {
     "name": "#%%\n"
    }
   },
   "outputs": [
    {
     "ename": "ModuleNotFoundError",
     "evalue": "No module named 'openTEPES'",
     "output_type": "error",
     "traceback": [
      "\u001B[1;31m---------------------------------------------------------------------------\u001B[0m",
      "\u001B[1;31mModuleNotFoundError\u001B[0m                       Traceback (most recent call last)",
      "\u001B[1;32m~\\AppData\\Local\\Temp/ipykernel_35912/3684255111.py\u001B[0m in \u001B[0;36m<module>\u001B[1;34m\u001B[0m\n\u001B[1;32m----> 1\u001B[1;33m \u001B[1;32mfrom\u001B[0m \u001B[0mopenTEPES\u001B[0m\u001B[1;33m.\u001B[0m\u001B[0mopenTEPES\u001B[0m \u001B[1;32mimport\u001B[0m \u001B[0mopenTEPES_run\u001B[0m\u001B[1;33m\u001B[0m\u001B[1;33m\u001B[0m\u001B[0m\n\u001B[0m",
      "\u001B[1;31mModuleNotFoundError\u001B[0m: No module named 'openTEPES'"
     ]
    }
   ],
   "source": [
    "from openTEPES.openTEPES import openTEPES_run"
   ]
  },
  {
   "cell_type": "markdown",
   "metadata": {},
   "source": [
    "The function returns the model as a pyomo object containing all model elements (i.e., set, param, var, etc.).\n",
    "Then, we only need to specify the path where is the case (DIR), the case name (CaseName), the solver name (SolverName), and the parameter (i.e., ``Yes`` or ``No``) if you want to write log information in the console (IndLogConsole).\n",
    "For our example, we don't specify the path because the case folder is in the same place as this notebook.\n",
    "\n",
    "Then, we created a folder with the name of our case study (e.g., ``9n`` in our case), where are all the input files needed.\n",
    "And, we use the ``cbc`` solver that is already installed if you are running this tutorial in Binder."
   ]
  },
  {
   "cell_type": "code",
   "execution_count": null,
   "metadata": {
    "pycharm": {
     "name": "#%%\n"
    }
   },
   "outputs": [],
   "source": [
    "DIR =''\n",
    "CaseName = '9n'\n",
    "SolverName = 'gurobi'\n",
    "IndLogConsole = 'No'"
   ]
  },
  {
   "cell_type": "code",
   "execution_count": null,
   "metadata": {
    "pycharm": {
     "name": "#%%\n"
    }
   },
   "outputs": [],
   "source": [
    "model = openTEPES_run(DIR, CaseName, SolverName, IndLogConsole)"
   ]
  },
  {
   "cell_type": "markdown",
   "metadata": {},
   "source": [
    "The output files can be found in the folder called ``9n`` , both the ``csv`` and ``html`` files.\n",
    "As example of it, we read the total output per technology as follows:"
   ]
  },
  {
   "cell_type": "markdown",
   "metadata": {},
   "source": [
    "### Reading the CSV file TechnologyOutput as a pandas dataframe"
   ]
  },
  {
   "cell_type": "code",
   "execution_count": null,
   "metadata": {
    "pycharm": {
     "name": "#%%\n"
    }
   },
   "outputs": [],
   "source": [
    "import pandas as pd\n",
    "df = pd.read_csv(CaseName+'/oT_Result_TechnologyOutput_'+CaseName+'.csv')\n",
    "df.head()"
   ]
  },
  {
   "cell_type": "markdown",
   "metadata": {
    "pycharm": {
     "name": "#%% md\n"
    }
   },
   "source": [
    "Notice that the results are in ``tetra-hourly`` resolution since we have the ``TimeStep`` equal to ``4`` in the CSV file ``oT_Data_Parameter_9n``.\n",
    "Henceforth, you can play with the ``TimeStep`` by changing it from ``1`` (hourly) to ``4`` (tetra-hourly), and check the results."
   ]
  },
  {
   "cell_type": "markdown",
   "metadata": {},
   "source": [
    "### Reading the plot TechnologyOutput"
   ]
  },
  {
   "cell_type": "code",
   "execution_count": null,
   "metadata": {
    "pycharm": {
     "name": "#%%\n"
    }
   },
   "outputs": [],
   "source": [
    "from IPython.display import IFrame\n",
    "IFrame(src=CaseName+'/oT_Plot_TechnologyOutput_sc01_y2030_'+CaseName+'.html', width=1400, height=650)"
   ]
  },
  {
   "cell_type": "markdown",
   "metadata": {
    "pycharm": {
     "name": "#%% md\n"
    }
   },
   "source": [
    "## 2. Running Step by Step\n",
    "\n",
    "In this running step by step, we will show how the ``openTEPES_run`` function works."
   ]
  },
  {
   "cell_type": "markdown",
   "metadata": {},
   "source": [
    "#### Path and case study\n",
    "In this tutorial the main scripts of the model are located in DIR and the case study will be the ``9n`` that is located in the folder with the same name.\n",
    "In addition, we also declare the ``SolverName`` and ``IndLogConsole``."
   ]
  },
  {
   "cell_type": "code",
   "execution_count": null,
   "metadata": {
    "pycharm": {
     "name": "#%%\n"
    }
   },
   "outputs": [],
   "source": [
    "DirName = '/srv/conda/envs/notebook/lib/python3.8/site-packages/openTEPES'\n",
    "CaseName = '9n'\n",
    "SolverName = 'cbc'\n",
    "IndLogConsole = 'No'"
   ]
  },
  {
   "cell_type": "markdown",
   "metadata": {},
   "source": [
    "#### Libraries\n",
    "We start by importing the relevant libraries."
   ]
  },
  {
   "cell_type": "code",
   "execution_count": null,
   "metadata": {
    "pycharm": {
     "name": "#%%\n"
    }
   },
   "outputs": [],
   "source": [
    "import time\n",
    "import os\n",
    "\n",
    "from pyomo.environ import ConcreteModel, Set\n",
    "from openTEPES import openTEPES as oT"
   ]
  },
  {
   "cell_type": "markdown",
   "metadata": {},
   "source": [
    "#### Data transforming\n",
    "We start by importing the relevant libraries."
   ]
  },
  {
   "cell_type": "code",
   "execution_count": null,
   "metadata": {
    "pycharm": {
     "name": "#%%\n"
    }
   },
   "outputs": [],
   "source": [
    "InitialTime = time.time()\n",
    "\n",
    "idxDict = dict()\n",
    "idxDict[0    ] = 0\n",
    "idxDict[0.0  ] = 0\n",
    "idxDict['No' ] = 0\n",
    "idxDict['NO' ] = 0\n",
    "idxDict['no' ] = 0\n",
    "idxDict['N'  ] = 0\n",
    "idxDict['n'  ] = 0\n",
    "idxDict['Yes'] = 1\n",
    "idxDict['YES'] = 1\n",
    "idxDict['yes'] = 1\n",
    "idxDict['Y'  ] = 1\n",
    "idxDict['y'  ] = 1\n",
    "\n",
    "pIndLogConsole = [j for i, j in idxDict.items() if i == IndLogConsole]"
   ]
  },
  {
   "cell_type": "markdown",
   "metadata": {},
   "source": [
    "#### Model object definition\n",
    "We use the ``ConcreteModel`` function from pyomo to define our model, as follows:"
   ]
  },
  {
   "cell_type": "code",
   "execution_count": null,
   "metadata": {
    "pycharm": {
     "name": "#%%\n"
    }
   },
   "outputs": [],
   "source": [
    "mTEPES = ConcreteModel('openTEPES')"
   ]
  },
  {
   "cell_type": "markdown",
   "metadata": {},
   "source": [
    "#### Define sets and parameters"
   ]
  },
  {
   "cell_type": "code",
   "execution_count": null,
   "metadata": {
    "pycharm": {
     "name": "#%%\n"
    }
   },
   "outputs": [],
   "source": [
    "oT.InputData(DirName, CaseName, mTEPES, pIndLogConsole)"
   ]
  },
  {
   "cell_type": "markdown",
   "metadata": {},
   "source": [
    "#### Define variables"
   ]
  },
  {
   "cell_type": "code",
   "execution_count": null,
   "metadata": {
    "pycharm": {
     "name": "#%%\n"
    }
   },
   "outputs": [],
   "source": [
    "oT.SettingUpVariables(mTEPES, mTEPES)"
   ]
  },
  {
   "cell_type": "markdown",
   "metadata": {},
   "source": [
    "#### Investment model objective function"
   ]
  },
  {
   "cell_type": "code",
   "execution_count": null,
   "metadata": {
    "pycharm": {
     "name": "#%%\n"
    }
   },
   "outputs": [],
   "source": [
    "oT.InvestmentModelFormulation(mTEPES, mTEPES, pIndLogConsole)"
   ]
  },
  {
   "cell_type": "markdown",
   "metadata": {},
   "source": [
    "#### Iterative model formulation for each stage of a year\n",
    "This part has two main sections: the first one active only scenario, period, and load levels to be used, and the second one, define the operation model objective function and constraints by stage."
   ]
  },
  {
   "cell_type": "code",
   "execution_count": null,
   "metadata": {
    "pycharm": {
     "name": "#%%\n"
    }
   },
   "outputs": [],
   "source": [
    "for sc,p,st in mTEPES.scc*mTEPES.pp*mTEPES.stt:\n",
    "    # only scenario, period and load levels to formulate\n",
    "    mTEPES.del_component(mTEPES.sc)\n",
    "    mTEPES.del_component(mTEPES.p )\n",
    "    mTEPES.del_component(mTEPES.st)\n",
    "    mTEPES.del_component(mTEPES.n )\n",
    "    mTEPES.del_component(mTEPES.n2)\n",
    "    mTEPES.sc = Set(initialize=mTEPES.scc, ordered=True, doc='scenarios',   filter=lambda mTEPES,scc: scc in mTEPES.scc and sc == scc and mTEPES.pScenProb   [scc])\n",
    "    mTEPES.p  = Set(initialize=mTEPES.pp,  ordered=True, doc='periods',     filter=lambda mTEPES,pp : pp  in                p  == pp                              )\n",
    "    mTEPES.st = Set(initialize=mTEPES.stt, ordered=True, doc='stages',      filter=lambda mTEPES,stt: stt in mTEPES.stt and st == stt and mTEPES.pStageWeight[stt] and sum(1 for (st, nn) in mTEPES.s2n))\n",
    "    mTEPES.n  = Set(initialize=mTEPES.nn,  ordered=True, doc='load levels', filter=lambda mTEPES,nn : nn  in mTEPES.pDuration and (st,nn) in mTEPES.s2n)\n",
    "    mTEPES.n2 = Set(initialize=mTEPES.nn,  ordered=True, doc='load levels', filter=lambda mTEPES,nn : nn  in mTEPES.pDuration and (st,nn) in mTEPES.s2n)\n",
    "\n",
    "    # operation model objective function and constraints by stage\n",
    "    oT.GenerationOperationModelFormulation(mTEPES, mTEPES, pIndLogConsole, st)\n",
    "    oT.NetworkSwitchingModelFormulation   (mTEPES, mTEPES, pIndLogConsole, st)\n",
    "    oT.NetworkOperationModelFormulation   (mTEPES, mTEPES, pIndLogConsole, st)"
   ]
  },
  {
   "cell_type": "markdown",
   "metadata": {},
   "source": [
    "#### Create lp-format file\n",
    "We save the LP-format file in the folder called ``9n``. "
   ]
  },
  {
   "cell_type": "code",
   "execution_count": null,
   "metadata": {
    "pycharm": {
     "name": "#%%\n"
    }
   },
   "outputs": [],
   "source": [
    "StartTime         = time.time()\n",
    "mTEPES.write(CaseName+'/openTEPES_'+CaseName+'.lp', io_options={'symbolic_solver_labels': True})\n",
    "WritingLPFileTime = time.time() - StartTime\n",
    "StartTime         = time.time()\n",
    "print('Writing LP file                        ... ', round(WritingLPFileTime), 's')"
   ]
  },
  {
   "cell_type": "markdown",
   "source": [
    "#### Solving the mTEPES problem"
   ],
   "metadata": {
    "collapsed": false
   }
  },
  {
   "cell_type": "code",
   "execution_count": null,
   "outputs": [],
   "source": [
    "oT.ProblemSolving(DirName, CaseName, SolverName, mTEPES, mTEPES, pIndLogConsole)"
   ],
   "metadata": {
    "collapsed": false,
    "pycharm": {
     "name": "#%%\n"
    }
   }
  },
  {
   "cell_type": "markdown",
   "metadata": {},
   "source": [
    "#### Activating all possible scenario, period, and load levels"
   ]
  },
  {
   "cell_type": "code",
   "execution_count": null,
   "metadata": {
    "pycharm": {
     "name": "#%%\n"
    }
   },
   "outputs": [],
   "source": [
    "mTEPES.del_component(mTEPES.sc)\n",
    "mTEPES.del_component(mTEPES.p )\n",
    "mTEPES.del_component(mTEPES.st)\n",
    "mTEPES.del_component(mTEPES.n )\n",
    "mTEPES.sc = Set(initialize=mTEPES.scc, ordered=True, doc='scenarios',   filter=lambda mTEPES,scc: scc in mTEPES.scc and mTEPES.pScenProb   [scc])\n",
    "mTEPES.p  = Set(initialize=mTEPES.pp,  ordered=True, doc='periods',     filter=lambda mTEPES,pp : pp  in p  == pp                               )\n",
    "mTEPES.st = Set(initialize=mTEPES.stt, ordered=True, doc='stages',      filter=lambda mTEPES,stt: stt in mTEPES.stt and mTEPES.pStageWeight[stt] and sum(1 for (stt, nn) in mTEPES.s2n))\n",
    "mTEPES.n  = Set(initialize=mTEPES.nn,  ordered=True, doc='load levels', filter=lambda mTEPES,nn : nn  in                mTEPES.pDuration        )\n"
   ]
  },
  {
   "cell_type": "markdown",
   "metadata": {},
   "source": [
    "#### Writing and plotting results"
   ]
  },
  {
   "cell_type": "code",
   "execution_count": null,
   "metadata": {
    "pycharm": {
     "name": "#%%\n"
    }
   },
   "outputs": [],
   "source": [
    "oT.InvestmentResults         (DirName, CaseName, mTEPES, mTEPES)\n",
    "oT.GenerationOperationResults(DirName, CaseName, mTEPES, mTEPES)\n",
    "oT.ESSOperationResults       (DirName, CaseName, mTEPES, mTEPES)\n",
    "oT.FlexibilityResults        (DirName, CaseName, mTEPES, mTEPES)\n",
    "oT.NetworkOperationResults   (DirName, CaseName, mTEPES, mTEPES)\n",
    "oT.MarginalResults           (DirName, CaseName, mTEPES, mTEPES)\n",
    "oT.EconomicResults           (DirName, CaseName, mTEPES, mTEPES)\n",
    "oT.NetworkMapResults         (DirName, CaseName, mTEPES, mTEPES)\n",
    "\n",
    "TotalTime = time.time() - InitialTime\n",
    "print('Total time                             ... ', round(TotalTime), 's')"
   ]
  }
 ],
 "metadata": {
  "kernelspec": {
   "display_name": "Python 3 (ipykernel)",
   "language": "python",
   "name": "python3"
  },
  "language_info": {
   "codemirror_mode": {
    "name": "ipython",
    "version": 3
   },
   "file_extension": ".py",
   "mimetype": "text/x-python",
   "name": "python",
   "nbconvert_exporter": "python",
   "pygments_lexer": "ipython3",
   "version": "3.9.5"
  }
 },
 "nbformat": 4,
 "nbformat_minor": 1
}