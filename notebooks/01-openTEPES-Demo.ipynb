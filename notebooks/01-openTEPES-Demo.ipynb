{
 "cells": [
  {
   "cell_type": "markdown",
   "source": [
    "# Demo: Exploratory Execution\n",
    "\n",
    "We start this tutorial from scratch in blank notebooks to whet your appetite for knowing the openTEPES."
   ],
   "metadata": {
    "collapsed": false
   }
  },
  {
   "cell_type": "markdown",
   "source": [
    "## 1. Installation\n",
    "\n",
    "**[Recommendation]** If you are running this tutorial in Binder [![Binder](https://mybinder.org/badge_logo.svg)](https://mybinder.org/v2/gh/IIT-EnergySystemModels/openTEPES-tutorial/HEAD), ignore the installation step.\n",
    "\n",
    "In case, you prefer use your personal computer, the installation of the openTEPES model and its dependencies, please follow the section **installation** of the [README](https://github.com/IIT-EnergySystemModels/openTEPES#readme)."
   ],
   "metadata": {
    "collapsed": false
   }
  },
  {
   "cell_type": "markdown",
   "source": [
    "## 2. Quick-run\n",
    "\n",
    "As a first step, we import the function ``openTEPES_run(DIR, CaseName, SolverName, pIndLogConsole)`` as:"
   ],
   "metadata": {
    "collapsed": false
   }
  },
  {
   "cell_type": "code",
   "execution_count": null,
   "outputs": [],
   "source": [
    "from openTEPES.openTEPES import openTEPES_run"
   ],
   "metadata": {
    "collapsed": false,
    "pycharm": {
     "name": "#%%\n"
    }
   }
  },
  {
   "cell_type": "markdown",
   "source": [
    "The function returns the model as a pyomo object containing all model elements (i.e., set, param, var, etc.).\n",
    "Then, we only need to specify the path where is the case (DIR), the case name (CaseName), the solver name (SolverName), and the parameter (i.e., ``Yes`` or ``No``) if you want to write log information in the console (IndLogConsole).\n",
    "For our example, we don't specify the path because the case folder is in the same place as this notebook.\n",
    "\n",
    "Then, we created a folder with the name of our case study (e.g., ``9n`` in our case), where are all the input files needed.\n",
    "And, we use the ``cbc`` solver that is already installed if you are running this tutorial in Binder."
   ],
   "metadata": {
    "collapsed": false
   }
  },
  {
   "cell_type": "code",
   "execution_count": null,
   "outputs": [],
   "source": [
    "DIR =''\n",
    "CaseName = '9n'\n",
    "SolverName = 'gurobi'\n",
    "IndLogConsole = 'No'"
   ],
   "metadata": {
    "collapsed": false,
    "pycharm": {
     "name": "#%%\n"
    }
   }
  },
  {
   "cell_type": "code",
   "execution_count": null,
   "outputs": [],
   "source": [
    "model = openTEPES_run(DIR, CaseName, SolverName, IndLogConsole)"
   ],
   "metadata": {
    "collapsed": false,
    "pycharm": {
     "name": "#%%\n"
    }
   }
  },
  {
   "cell_type": "markdown",
   "source": [
    "The output files can be found in the folder called ``9n`` , both the ``csv`` and ``html`` files.\n",
    "As example of it, we read the total output per technology as follows:"
   ],
   "metadata": {
    "collapsed": false
   }
  },
  {
   "cell_type": "markdown",
   "source": [
    "### Reading the CSV file TechnologyOutput as a pandas dataframe"
   ],
   "metadata": {
    "collapsed": false
   }
  },
  {
   "cell_type": "code",
   "execution_count": null,
   "outputs": [],
   "source": [
    "import pandas as pd\n",
    "df = pd.read_csv(CaseName+'/oT_Result_TechnologyOutput_'+CaseName+'.csv')\n",
    "df.head()"
   ],
   "metadata": {
    "collapsed": false,
    "pycharm": {
     "name": "#%%\n"
    }
   }
  },
  {
   "cell_type": "markdown",
   "source": [
    "Notice that the results are in ``tetra-hourly`` resolution since we have the ``TimeStep`` equal to ``4`` in the CSV file ``oT_Data_Parameter_9n``.\n",
    "Henceforth, you can play with the ``TimeStep`` by changing it from ``1`` (hourly) to ``4`` (tetra-hourly), and check the results."
   ],
   "metadata": {
    "collapsed": false
   }
  },
  {
   "cell_type": "markdown",
   "source": [
    "### Reading the plot TechnologyOutput"
   ],
   "metadata": {
    "collapsed": false
   }
  },
  {
   "cell_type": "code",
   "execution_count": null,
   "outputs": [],
   "source": [
    "from IPython.display import IFrame\n",
    "IFrame(src=CaseName+'/oT_Plot_TechnologyOutput_sc01_y2030_'+CaseName+'.html', width=1400, height=650)"
   ],
   "metadata": {
    "collapsed": false,
    "pycharm": {
     "name": "#%%\n"
    }
   }
  },
  {
   "cell_type": "markdown",
   "source": [
    "## 3. Running Step by Step\n",
    "\n",
    "The running step by step of the openTEPES model can be found here:\n",
    "\n",
    "- [1.3-openTEPES-Running-StepByStep.ipynb](1.3-openTEPES-Running-StepByStep.ipynb)"
   ],
   "metadata": {
    "collapsed": false
   }
  }
 ],
 "metadata": {
  "kernelspec": {
   "display_name": "Python 3 (ipykernel)",
   "language": "python",
   "name": "python3"
  },
  "language_info": {
   "codemirror_mode": {
    "name": "ipython",
    "version": 3
   },
   "file_extension": ".py",
   "mimetype": "text/x-python",
   "name": "python",
   "nbconvert_exporter": "python",
   "pygments_lexer": "ipython3",
   "version": "3.9.5"
  }
 },
 "nbformat": 4,
 "nbformat_minor": 1
}