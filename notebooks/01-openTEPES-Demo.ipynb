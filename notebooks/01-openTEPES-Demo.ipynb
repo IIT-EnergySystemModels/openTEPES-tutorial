{
 "cells": [
  {
   "cell_type": "markdown",
   "metadata": {},
   "source": [
    "# Demo: Exploratory Execution\n",
    "\n",
    "We start this tutorial from scratch in blank notebooks to whet your appetite for knowing the openTEPES."
   ]
  },
  {
   "cell_type": "markdown",
   "metadata": {},
   "source": [
    "## 1. Installation\n",
    "\n",
    "**[Recommendation]** If you are running this tutorial in Binder [![Binder](https://mybinder.org/badge_logo.svg)](https://mybinder.org/v2/gh/IIT-EnergySystemModels/openTEPES-tutorial/HEAD), ignore the installation step.\n",
    "\n",
    "In case, you prefer use your personal computer, the installation of the openTEPES model and its dependencies, please follow the section **installation** of the [README](https://github.com/IIT-EnergySystemModels/openTEPES#readme)."
   ]
  },
  {
   "cell_type": "markdown",
   "metadata": {},
   "source": [
    "## 2. Quick-run\n",
    "\n",
    "As a first step, we import the function ``openTEPES_run(DIR, CaseName, SolverName, pIndLogConsole)`` as:"
   ]
  },
  {
   "cell_type": "code",
   "execution_count": 2,
   "metadata": {
    "pycharm": {
     "name": "#%%\n"
    }
   },
   "outputs": [],
   "source": [
    "from openTEPES.openTEPES import openTEPES_run"
   ]
  },
  {
   "cell_type": "markdown",
   "metadata": {},
   "source": [
    "The function returns the model as a pyomo object containing all model elements (i.e., set, param, var, etc.).\n",
    "Then, we only need to specify the path where is the case (DIR), the case name (CaseName), the solver name (SolverName), and the parameter (i.e., ``Yes`` or ``No``) if you want to write log information in the console (IndLogConsole).\n",
    "For our example, we don't specify the path because the case folder is in the same place as this notebook.\n",
    "\n",
    "Then, we created a folder with the name of our case study (e.g., ``9n`` in our case), where are all the input files needed.\n",
    "And, we use the ``HiGHS`` solver that is already installed if you are running this tutorial in Binder."
   ]
  },
  {
   "cell_type": "code",
   "execution_count": 3,
   "metadata": {
    "pycharm": {
     "name": "#%%\n"
    }
   },
   "outputs": [],
   "source": [
    "DIR =''\n",
    "CaseName = '9n'\n",
    "SolverName = 'glpk'\n",
    "IndOutputResults = 'Yes'\n",
    "IndLogConsole = 'No'"
   ]
  },
  {
   "cell_type": "code",
   "execution_count": 4,
   "metadata": {
    "pycharm": {
     "name": "#%%\n"
    }
   },
   "outputs": [
    {
     "name": "stdout",
     "output_type": "stream",
     "text": [
      "Input data                             ****\n",
      "Reading    input data                  ...  0 s\n"
     ]
    },
    {
     "name": "stderr",
     "output_type": "stream",
     "text": [
      "C:\\Users\\erik_\\miniconda3\\lib\\site-packages\\pyomo\\core\\base\\block.py:541: PerformanceWarning: indexing past lexsort depth may impact performance.\n",
      "  self.add_component(name, val)\n"
     ]
    },
    {
     "name": "stdout",
     "output_type": "stream",
     "text": [
      "Setting up input data                  ...  6 s\n",
      "Setting up variables                   ...  2 s\n",
      "Investment           model formulation ****\n",
      "Generation operation model formulation ****\n",
      "Network    switching model formulation ****\n",
      "Network    operation model formulation ****\n",
      "Writing LP file                        ...  14 s\n",
      "Problem solving                        ****\n",
      "# ==========================================================\n",
      "# = Solver Results                                         =\n",
      "# ==========================================================\n",
      "# ----------------------------------------------------------\n",
      "#   Problem Information\n",
      "# ----------------------------------------------------------\n",
      "Problem: \n",
      "- Name: x428081\n",
      "  Lower bound: 142.15017491480492\n",
      "  Upper bound: 142.15017491480492\n",
      "  Number of objectives: 1\n",
      "  Number of constraints: 214031\n",
      "  Number of variables: 272626\n",
      "  Number of binary variables: 0\n",
      "  Number of integer variables: 0\n",
      "  Number of continuous variables: 272626\n",
      "  Number of nonzeros: 853275\n",
      "  Sense: minimize\n",
      "# ----------------------------------------------------------\n",
      "#   Solver Information\n",
      "# ----------------------------------------------------------\n",
      "Solver: \n",
      "- Status: ok\n",
      "  Return code: 0\n",
      "  Message: Model was solved to optimality (subject to tolerances), and an optimal solution is available.\n",
      "  Termination condition: optimal\n",
      "  Termination message: Model was solved to optimality (subject to tolerances), and an optimal solution is available.\n",
      "  Wall time: 6.443628311157227\n",
      "  Error rc: 0\n",
      "  Time: 9.989911079406738\n",
      "# ----------------------------------------------------------\n",
      "#   Solution Information\n",
      "# ----------------------------------------------------------\n",
      "Solution: \n",
      "- number of solutions: 0\n",
      "  number of solutions displayed: 0\n",
      "Solution time                          ...  23 s\n",
      "Total system      cost [MEUR]               142.15017491480427\n",
      "Total investment  cost [MEUR]               4.596940508255597\n",
      "Total generation  cost [MEUR]               137.55323440654868\n",
      "Total consumption cost [MEUR]               0.0\n",
      "Total emission    cost [MEUR]               0.0\n",
      "Total reliability cost [MEUR]               0.0\n",
      "Writing           investment results   ...  0 s\n",
      "Writing generation operation results   ...  6 s\n",
      "Writing        ESS operation results   ...  1 s\n",
      "Writing          flexibility results   ...  1 s\n",
      "Writing    network operation results   ...  1 s\n",
      "Writing marginal information results   ...  1 s\n",
      "Writing             economic results   ...  3 s\n",
      "Plotting network maps                  ...  0 s\n",
      "Total time                             ...  72 s\n"
     ]
    }
   ],
   "source": [
    "model = openTEPES_run(DIR, CaseName, SolverName, IndOutputResults, IndLogConsole)"
   ]
  },
  {
   "cell_type": "markdown",
   "metadata": {},
   "source": [
    "The output files can be found in the folder called ``9n`` , both the ``csv`` and ``html`` files.\n",
    "As example of it, we read the total output per technology as follows:"
   ]
  },
  {
   "cell_type": "markdown",
   "metadata": {},
   "source": [
    "### Reading the CSV file TechnologyOutput as a pandas dataframe"
   ]
  },
  {
   "cell_type": "code",
   "execution_count": 5,
   "metadata": {
    "pycharm": {
     "name": "#%%\n"
    }
   },
   "outputs": [
    {
     "data": {
      "text/html": [
       "<div>\n",
       "<style scoped>\n",
       "    .dataframe tbody tr th:only-of-type {\n",
       "        vertical-align: middle;\n",
       "    }\n",
       "\n",
       "    .dataframe tbody tr th {\n",
       "        vertical-align: top;\n",
       "    }\n",
       "\n",
       "    .dataframe thead th {\n",
       "        text-align: right;\n",
       "    }\n",
       "</style>\n",
       "<table border=\"1\" class=\"dataframe\">\n",
       "  <thead>\n",
       "    <tr style=\"text-align: right;\">\n",
       "      <th></th>\n",
       "      <th>Scenario</th>\n",
       "      <th>Period</th>\n",
       "      <th>LoadLevel</th>\n",
       "      <th>Coal</th>\n",
       "      <th>ESS</th>\n",
       "      <th>Gas</th>\n",
       "      <th>Nuclear</th>\n",
       "      <th>Oil</th>\n",
       "      <th>RES</th>\n",
       "    </tr>\n",
       "  </thead>\n",
       "  <tbody>\n",
       "    <tr>\n",
       "      <th>0</th>\n",
       "      <td>sc01</td>\n",
       "      <td>y2030</td>\n",
       "      <td>2030-01-01T03:00:00+01:00</td>\n",
       "      <td>0.0</td>\n",
       "      <td>0.000000</td>\n",
       "      <td>0.000000</td>\n",
       "      <td>771.6</td>\n",
       "      <td>0.0</td>\n",
       "      <td>241.191319</td>\n",
       "    </tr>\n",
       "    <tr>\n",
       "      <th>1</th>\n",
       "      <td>sc01</td>\n",
       "      <td>y2030</td>\n",
       "      <td>2030-01-01T07:00:00+01:00</td>\n",
       "      <td>0.0</td>\n",
       "      <td>0.000000</td>\n",
       "      <td>0.000000</td>\n",
       "      <td>771.6</td>\n",
       "      <td>0.0</td>\n",
       "      <td>109.232531</td>\n",
       "    </tr>\n",
       "    <tr>\n",
       "      <th>2</th>\n",
       "      <td>sc01</td>\n",
       "      <td>y2030</td>\n",
       "      <td>2030-01-01T11:00:00+01:00</td>\n",
       "      <td>0.0</td>\n",
       "      <td>0.000000</td>\n",
       "      <td>224.004108</td>\n",
       "      <td>771.6</td>\n",
       "      <td>0.0</td>\n",
       "      <td>108.043994</td>\n",
       "    </tr>\n",
       "    <tr>\n",
       "      <th>3</th>\n",
       "      <td>sc01</td>\n",
       "      <td>y2030</td>\n",
       "      <td>2030-01-01T15:00:00+01:00</td>\n",
       "      <td>0.0</td>\n",
       "      <td>0.000000</td>\n",
       "      <td>224.004108</td>\n",
       "      <td>771.6</td>\n",
       "      <td>0.0</td>\n",
       "      <td>142.577969</td>\n",
       "    </tr>\n",
       "    <tr>\n",
       "      <th>4</th>\n",
       "      <td>sc01</td>\n",
       "      <td>y2030</td>\n",
       "      <td>2030-01-01T19:00:00+01:00</td>\n",
       "      <td>0.0</td>\n",
       "      <td>29.765856</td>\n",
       "      <td>233.222947</td>\n",
       "      <td>771.6</td>\n",
       "      <td>0.0</td>\n",
       "      <td>78.910838</td>\n",
       "    </tr>\n",
       "  </tbody>\n",
       "</table>\n",
       "</div>"
      ],
      "text/plain": [
       "  Scenario Period                  LoadLevel  Coal        ESS         Gas  \\\n",
       "0     sc01  y2030  2030-01-01T03:00:00+01:00   0.0   0.000000    0.000000   \n",
       "1     sc01  y2030  2030-01-01T07:00:00+01:00   0.0   0.000000    0.000000   \n",
       "2     sc01  y2030  2030-01-01T11:00:00+01:00   0.0   0.000000  224.004108   \n",
       "3     sc01  y2030  2030-01-01T15:00:00+01:00   0.0   0.000000  224.004108   \n",
       "4     sc01  y2030  2030-01-01T19:00:00+01:00   0.0  29.765856  233.222947   \n",
       "\n",
       "   Nuclear  Oil         RES  \n",
       "0    771.6  0.0  241.191319  \n",
       "1    771.6  0.0  109.232531  \n",
       "2    771.6  0.0  108.043994  \n",
       "3    771.6  0.0  142.577969  \n",
       "4    771.6  0.0   78.910838  "
      ]
     },
     "execution_count": 5,
     "metadata": {},
     "output_type": "execute_result"
    }
   ],
   "source": [
    "import pandas as pd\n",
    "df = pd.read_csv(CaseName+'/oT_Result_TechnologyGeneration_'+CaseName+'.csv')\n",
    "df.head()"
   ]
  },
  {
   "cell_type": "markdown",
   "metadata": {},
   "source": [
    "Notice that the results are in ``tetra-hourly`` resolution since we have the ``TimeStep`` equal to ``4`` in the CSV file ``oT_Data_Parameter_9n``.\n",
    "Henceforth, you can play with the ``TimeStep`` by changing it from ``1`` (hourly) to ``4`` (tetra-hourly), and check the results."
   ]
  },
  {
   "cell_type": "markdown",
   "metadata": {},
   "source": [
    "### Reading the plot TechnologyOutput"
   ]
  },
  {
   "cell_type": "code",
   "execution_count": 6,
   "metadata": {
    "pycharm": {
     "name": "#%%\n"
    }
   },
   "outputs": [
    {
     "data": {
      "text/html": [
       "\n",
       "        <iframe\n",
       "            width=\"1400\"\n",
       "            height=\"650\"\n",
       "            src=\"9n/oT_Plot_TechnologyOutput_sc01_y2030_9n.html\"\n",
       "            frameborder=\"0\"\n",
       "            allowfullscreen\n",
       "            \n",
       "        ></iframe>\n",
       "        "
      ],
      "text/plain": [
       "<IPython.lib.display.IFrame at 0x2380fe402e0>"
      ]
     },
     "execution_count": 6,
     "metadata": {},
     "output_type": "execute_result"
    }
   ],
   "source": [
    "from IPython.display import IFrame\n",
    "IFrame(src=CaseName+'/oT_Plot_TechnologyGeneration_2030_sc01_'+CaseName+'.html', width=1400, height=650)"
   ]
  },
  {
   "cell_type": "markdown",
   "metadata": {},
   "source": [
    "## 3. Running Step by Step\n",
    "\n",
    "The running step by step of the openTEPES model can be found here:\n",
    "\n",
    "- [1.3-openTEPES-Running-StepByStep.ipynb](1.3-openTEPES-Running-StepByStep.ipynb)"
   ]
  },
  {
   "cell_type": "code",
   "execution_count": null,
   "metadata": {},
   "outputs": [],
   "source": []
  }
 ],
 "metadata": {
  "kernelspec": {
   "display_name": "Python 3 (ipykernel)",
   "language": "python",
   "name": "python3"
  },
  "language_info": {
   "codemirror_mode": {
    "name": "ipython",
    "version": 3
   },
   "file_extension": ".py",
   "mimetype": "text/x-python",
   "name": "python",
   "nbconvert_exporter": "python",
   "pygments_lexer": "ipython3",
   "version": "3.9.5"
  }
 },
 "nbformat": 4,
 "nbformat_minor": 1
}
