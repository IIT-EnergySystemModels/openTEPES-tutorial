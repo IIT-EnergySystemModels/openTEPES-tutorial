{
 "cells": [
  {
   "cell_type": "markdown",
   "metadata": {
    "collapsed": false,
    "pycharm": {
     "name": "#%% md\n"
    }
   },
   "source": [
    "## 5. Optimal Transmission Switching\n",
    "\n",
    "To perform it, we need to fill the CSV files related to the demand, generation and variable generation as we made in the following files in the folder called ``9n_ByStages_OTS``:\n",
    "- ``oT_Data_Demand_9n_ByStages_OTS.csv``\n",
    "- ``oT_Data_Generation_9n_ByStages_OTS.csv``\n",
    "- ``oT_Data_VariableMaxGeneration_9n_ByStages_OTS.csv``\n",
    "\n",
    "As we know the TEP is also comprised by operating constraints of which these could correspond to an economic dispatch ([4.1-Economic-Dispatch.ipynb](4.1-Economic-Dispatch.ipynb)) or unit commitment([4.2-Unit-Commitment.ipynb](4.1-Unit-Commitment.ipynb)).\n",
    "For our example, we use the ones related to the economic dispatch.\n",
    "\n",
    "Likewise, in the CSV file ``oT_Data_Network_9n_ByStages_OTS.csv``, we only need to fill the columns:\n",
    "- LineType                 : It assigns the corresponding constraints (i.e., AC or DC)\n",
    "- Voltage                  : It classifies the lines according to voltage levels\n",
    "- LossFactor               : It is only filled if we want to consider losses\n",
    "- Reactance                : It is only filled if we want to consider reactance\n",
    "- TTC                      : It defines the transmission capacity\n",
    "- SecurityFactor           : It is only filled if we want to consider reactance; otherwise it should be equal to one\n",
    "- **SwOnTime**             : Only define it if there is switching information. If it is blank, it is ignored per default\n",
    "- **SwOffTime**            : Only define it if there is switching information. If it is blank, it is ignored per default"
   ]
  },
  {
   "cell_type": "markdown",
   "metadata": {
    "collapsed": false,
    "pycharm": {
     "name": "#%% md\n"
    }
   },
   "source": [
    "#### Defining, CaseName, SolverName and IndLogConsole"
   ]
  },
  {
   "cell_type": "code",
   "execution_count": null,
   "metadata": {
    "collapsed": false,
    "pycharm": {
     "name": "#%%\n"
    }
   },
   "outputs": [],
   "source": [
    "DirName = ''\n",
    "CaseName = '9n_ByStages_OTS'\n",
    "SolverName = 'appsi_highs'\n",
    "IndLogConsole = 'No'"
   ]
  },
  {
   "cell_type": "markdown",
   "metadata": {
    "collapsed": false,
    "pycharm": {
     "name": "#%% md\n"
    }
   },
   "source": [
    "#### Libraries"
   ]
  },
  {
   "cell_type": "code",
   "execution_count": null,
   "metadata": {
    "collapsed": false,
    "pycharm": {
     "name": "#%%\n"
    }
   },
   "outputs": [],
   "source": [
    "import pandas as pd\n",
    "from openTEPES.openTEPES import openTEPES_run"
   ]
  },
  {
   "cell_type": "markdown",
   "metadata": {
    "collapsed": false,
    "pycharm": {
     "name": "#%% md\n"
    }
   },
   "source": [
    "Then, the CSV file ``oT_Data_Network_9n_ByStages_OTS.csv`` would be like this:"
   ]
  },
  {
   "cell_type": "code",
   "execution_count": null,
   "metadata": {
    "collapsed": false,
    "pycharm": {
     "name": "#%%\n"
    }
   },
   "outputs": [],
   "source": [
    "df_net = pd.read_csv(CaseName+'/oT_Data_Network_'+CaseName+'.csv', index_col=[0])\n",
    "df_net.fillna(0  , inplace=True)\n",
    "df_net"
   ]
  },
  {
   "cell_type": "markdown",
   "metadata": {
    "collapsed": false,
    "pycharm": {
     "name": "#%% md\n"
    }
   },
   "source": [
    "### Having hourly resolution"
   ]
  },
  {
   "cell_type": "code",
   "execution_count": null,
   "metadata": {
    "collapsed": false,
    "pycharm": {
     "name": "#%%\n"
    }
   },
   "outputs": [],
   "source": [
    "df = pd.read_csv(CaseName+'/oT_Data_Parameter_'+CaseName+'.csv', index_col=[0])"
   ]
  },
  {
   "cell_type": "code",
   "execution_count": null,
   "metadata": {
    "collapsed": false,
    "pycharm": {
     "name": "#%%\n"
    }
   },
   "outputs": [],
   "source": [
    "df['TimeStep'] = 1\n",
    "df.head()"
   ]
  },
  {
   "cell_type": "code",
   "execution_count": null,
   "metadata": {
    "collapsed": false,
    "pycharm": {
     "name": "#%%\n"
    }
   },
   "outputs": [],
   "source": [
    "df.to_csv(CaseName+'/oT_Data_Parameter_'+CaseName+'.csv', index=True)"
   ]
  },
  {
   "cell_type": "markdown",
   "metadata": {
    "collapsed": false,
    "pycharm": {
     "name": "#%% md\n"
    }
   },
   "source": [
    "### Setting up the model options to activate binary variables\n",
    "The openTEPES model has a CSV file called ``oT_Data_Option_9n_ByStages_OTS.csv``. This file control if the model considers relaxed binary variables or proper binary variables.\n",
    "For our example, we activate only switching variables as follows:"
   ]
  },
  {
   "cell_type": "code",
   "execution_count": null,
   "metadata": {
    "collapsed": false,
    "pycharm": {
     "name": "#%%\n"
    }
   },
   "outputs": [],
   "source": [
    "df = pd.read_csv(CaseName+'/oT_Data_Option_'+CaseName+'.csv', index_col=[0])"
   ]
  },
  {
   "cell_type": "code",
   "execution_count": null,
   "metadata": {
    "collapsed": false,
    "pycharm": {
     "name": "#%%\n"
    }
   },
   "outputs": [],
   "source": [
    "df['IndBinLineCommit'] = 1\n",
    "df.head()"
   ]
  },
  {
   "cell_type": "code",
   "execution_count": null,
   "metadata": {
    "collapsed": false,
    "pycharm": {
     "name": "#%%\n"
    }
   },
   "outputs": [],
   "source": [
    "df.to_csv(CaseName+'/oT_Data_Option_'+CaseName+'.csv', index=True)"
   ]
  },
  {
   "cell_type": "markdown",
   "metadata": {
    "collapsed": false,
    "pycharm": {
     "name": "#%% md\n"
    }
   },
   "source": [
    "Moreover, we need to fill the column ``Switching`` in the CSV file ``oT_Data_Network_9n_ByStages_OTS.csv`` as follows:"
   ]
  },
  {
   "cell_type": "code",
   "execution_count": null,
   "metadata": {
    "collapsed": false,
    "pycharm": {
     "name": "#%%\n"
    }
   },
   "outputs": [],
   "source": [
    "df_net['Switching'] = 'Yes'\n",
    "df_net"
   ]
  },
  {
   "cell_type": "code",
   "execution_count": null,
   "metadata": {
    "collapsed": false,
    "pycharm": {
     "name": "#%%\n"
    }
   },
   "outputs": [],
   "source": [
    "df_net.to_csv(CaseName+'/oT_Data_Network_'+CaseName+'.csv', index=True)"
   ]
  }
 ],
 "metadata": {
  "kernelspec": {
   "display_name": "Python 3 (ipykernel)",
   "language": "python",
   "name": "python3"
  },
  "language_info": {
   "codemirror_mode": {
    "name": "ipython",
    "version": 3
   },
   "file_extension": ".py",
   "mimetype": "text/x-python",
   "name": "python",
   "nbconvert_exporter": "python",
   "pygments_lexer": "ipython3",
   "version": "3.9.5"
  }
 },
 "nbformat": 4,
 "nbformat_minor": 1
}
