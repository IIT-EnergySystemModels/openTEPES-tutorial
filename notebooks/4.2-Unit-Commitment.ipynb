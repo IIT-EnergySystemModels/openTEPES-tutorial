{
 "cells": [
  {
   "cell_type": "code",
   "execution_count": null,
   "outputs": [],
   "source": [
    "# Only for restart the Kernel\n",
    "import os\n",
    "os._exit(00)"
   ],
   "metadata": {
    "collapsed": false,
    "pycharm": {
     "name": "#%%\n"
    }
   }
  },
  {
   "cell_type": "markdown",
   "source": [
    "## 1. Economic Dispatch with Storage Management\n",
    "\n",
    "To perform it, we need to fill the CSV files related to the demand, variable generation and transmission network:\n",
    "- ``oT_Data_Demand_9n_ByStages_ED.csv``\n",
    "- ``oT_Data_Network_9n_ByStages_ED.csv``\n",
    "- ``oT_Data_VariableMaxGeneration_9n_ByStages_ED.csv``\n",
    "\n",
    "As it is shown in the folder ``9n_ByStages_ED``.\n",
    "Likewise, in the CSV file ``oT_Data_Generation_9n_ByStages_ED.csv``, we only need to fill the columns:\n",
    "- Node              : Always define it to locate the unit to a node\n",
    "- Technology        : Always define it to assign the technology to the unit\n",
    "- StorageType       : Only define if the unit has storage\n",
    "- OutflowsType      : Only define if the unit has outflows\n",
    "- MaximumPower      : Always define it to assign the maximum output of the unit\n",
    "- MinimumPower      : It could be zero if the unit does not have a technical minimum\n",
    "- MaximumCharge     : Only define if the unit has storage\n",
    "- MinimumCharge     : Only define if the unit has storage\n",
    "- InitialStorage    : Only define if the unit has storage\n",
    "- MaximumStorage    : Only define if the unit has storage\n",
    "- MinimumStorage    : Only define if the unit has storage\n",
    "- Efficiency        : Only define if the unit has storage\n",
    "- FuelCost          : Define it if the unit has a production cost\n",
    "- LinearTerm        : Define it if the unit has a production cost\n",
    "- ConstantTerm      : Define it if the unit has a production cost\n",
    "- OMVariableCost    : Define it if the unit has a production cost\n",
    "- CO2EmissionRate   : Define it if is needed to consider a CO2 emission cost\n",
    "- Availability      : Define it if is needed to consider the availability coefficient.\n",
    "\n",
    "Note that if we want to perform the economic dispatch without considering storage management, we only need to not fill the columns:\n",
    "\n",
    "- StorageType       : Only define if the unit has storage\n",
    "- OutflowsType      : Only define if the unit has outflows\n",
    "- MaximumCharge     : Only define if the unit has storage\n",
    "- MinimumCharge     : Only define if the unit has storage\n",
    "- InitialStorage    : Only define if the unit has storage\n",
    "- MaximumStorage    : Only define if the unit has storage\n",
    "- MinimumStorage    : Only define if the unit has storage\n",
    "- Efficiency        : Only define if the unit has storage\n",
    "\n",
    "Then, the CSV file ``oT_Data_Generation_9n_ByStages_ED.csv`` would be like this:"
   ],
   "metadata": {
    "collapsed": false
   }
  },
  {
   "cell_type": "markdown",
   "source": [
    "#### Defining, CaseName"
   ],
   "metadata": {
    "collapsed": false
   }
  },
  {
   "cell_type": "code",
   "execution_count": null,
   "outputs": [],
   "source": [
    "DirName = ''\n",
    "CaseName = '9n_ByStages_ED'\n",
    "SolverName = 'cbc'\n",
    "IndLogConsole = 'No'"
   ],
   "metadata": {
    "collapsed": false,
    "pycharm": {
     "name": "#%%\n"
    }
   }
  },
  {
   "cell_type": "markdown",
   "source": [
    "#### Libraries"
   ],
   "metadata": {
    "collapsed": false
   }
  },
  {
   "cell_type": "code",
   "execution_count": null,
   "outputs": [],
   "source": [
    "import pandas as pd\n",
    "from openTEPES.openTEPES import openTEPES_run"
   ],
   "metadata": {
    "collapsed": false,
    "pycharm": {
     "name": "#%%\n"
    }
   }
  },
  {
   "cell_type": "code",
   "execution_count": null,
   "outputs": [],
   "source": [
    "df = pd.read_csv(CaseName+'/oT_Data_Generation_'+CaseName+'.csv', index_col=[0])\n",
    "df.head()"
   ],
   "metadata": {
    "collapsed": false,
    "pycharm": {
     "name": "#%%\n"
    }
   }
  },
  {
   "cell_type": "code",
   "execution_count": null,
   "outputs": [],
   "source": [
    "df = pd.read_csv(CaseName+'/oT_Data_Parameter_'+CaseName+'.csv', index_col=[0])\n",
    "df.head()"
   ],
   "metadata": {
    "collapsed": false,
    "pycharm": {
     "name": "#%%\n"
    }
   }
  },
  {
   "cell_type": "markdown",
   "source": [
    "### Having hourly resolution"
   ],
   "metadata": {
    "collapsed": false
   }
  },
  {
   "cell_type": "code",
   "execution_count": null,
   "outputs": [],
   "source": [
    "df['TimeStep'] = 1"
   ],
   "metadata": {
    "collapsed": false,
    "pycharm": {
     "name": "#%%\n"
    }
   }
  },
  {
   "cell_type": "code",
   "execution_count": null,
   "outputs": [],
   "source": [
    "df.to_csv(CaseName+'/oT_Data_Parameter_'+CaseName+'.csv', index=True)"
   ],
   "metadata": {
    "collapsed": false,
    "pycharm": {
     "name": "#%%\n"
    }
   }
  },
  {
   "cell_type": "code",
   "execution_count": null,
   "outputs": [],
   "source": [
    "model = openTEPES_run(DirName, CaseName, SolverName, IndLogConsole)"
   ],
   "metadata": {
    "collapsed": false,
    "pycharm": {
     "name": "#%%\n"
    }
   }
  },
  {
   "cell_type": "markdown",
   "source": [
    "### Reading the plot TechnologyOutput"
   ],
   "metadata": {
    "collapsed": false
   }
  },
  {
   "cell_type": "code",
   "execution_count": null,
   "outputs": [],
   "source": [
    "from IPython.display import IFrame\n",
    "IFrame(src=CaseName+'/oT_Plot_TechnologyOutput_sc01_y2030_'+CaseName+'.html', width=1400, height=650)"
   ],
   "metadata": {
    "collapsed": false,
    "pycharm": {
     "name": "#%%\n"
    }
   }
  }
 ],
 "metadata": {
  "kernelspec": {
   "display_name": "Python 3 (ipykernel)",
   "language": "python",
   "name": "python3"
  },
  "language_info": {
   "codemirror_mode": {
    "name": "ipython",
    "version": 3
   },
   "file_extension": ".py",
   "mimetype": "text/x-python",
   "name": "python",
   "nbconvert_exporter": "python",
   "pygments_lexer": "ipython3",
   "version": "3.9.5"
  }
 },
 "nbformat": 4,
 "nbformat_minor": 1
}