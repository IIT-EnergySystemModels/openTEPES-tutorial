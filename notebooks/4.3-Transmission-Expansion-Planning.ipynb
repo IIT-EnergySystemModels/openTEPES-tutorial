{
 "cells": [
  {
   "cell_type": "markdown",
   "source": [
    "## 3. Transmission Expansion Planning\n",
    "\n",
    "To perform it, we need to fill the CSV files related to the demand, generation and variable generation as we made in the following files in the folder called ``9n_ByStages_TEP``:\n",
    "- ``oT_Data_Demand_9n_ByStages_TEP.csv``\n",
    "- ``oT_Data_Generation_9n_ByStages_TEP.csv``\n",
    "- ``oT_Data_VariableMaxGeneration_9n_ByStages_TEP.csv``\n",
    "\n",
    "As we know the TEP is also comprised by operating constraints of which these could correspond to a economic dispatch ([4.1-Economic-Dispatch.ipynb](4.1-Economic-Dispatch.ipynb)) or unit commitment([4.2-Unit-Commitment.ipynb](4.1-Unit-Commitment.ipynb)).\n",
    "For our example, we use the ones related to the economic dispatch.\n",
    "\n",
    "Likewise, in the CSV file ``oT_Data_Network_9n_ByStages_TEP.csv``, we only need to fill the columns:\n",
    "- LineType                 : It assigns the corresponding constraints (i.e., AC or DC)\n",
    "- Voltage                  : It classifies the lines according to voltage levels\n",
    "- LossFactor               : It is only filled if we want to consider losses\n",
    "- Reactance                : It is only filled if we want to consider reactance\n",
    "- TTC                      : It defines the transmission capacity\n",
    "- SecurityFactor           : It is only filled if we want to consider reactance; otherwise it should be equal to one\n",
    "- **FixedInvestmentCost**  : Only define it if there is network investment information\n",
    "- **FixedChargeRate**      : Only define it if there is network investment information\n",
    "- **BinaryInvestment**     : Only define it if there is network investment information"
   ],
   "metadata": {
    "collapsed": false
   }
  },
  {
   "cell_type": "markdown",
   "source": [
    "#### Defining, CaseName, SolverName and IndLogConsole"
   ],
   "metadata": {
    "collapsed": false
   }
  },
  {
   "cell_type": "code",
   "execution_count": null,
   "outputs": [],
   "source": [
    "DirName = ''\n",
    "CaseName = '9n_ByStages_UC'\n",
    "SolverName = 'cbc'\n",
    "IndLogConsole = 'No'"
   ],
   "metadata": {
    "collapsed": false,
    "pycharm": {
     "name": "#%%\n"
    }
   }
  },
  {
   "cell_type": "markdown",
   "source": [
    "#### Libraries"
   ],
   "metadata": {
    "collapsed": false
   }
  },
  {
   "cell_type": "code",
   "execution_count": null,
   "outputs": [],
   "source": [
    "import pandas as pd\n",
    "from openTEPES.openTEPES import openTEPES_run"
   ],
   "metadata": {
    "collapsed": false,
    "pycharm": {
     "name": "#%%\n"
    }
   }
  },
  {
   "cell_type": "markdown",
   "source": [
    "Then, the CSV file ``oT_Data_Network_9n_ByStages_UC.csv`` would be like this:"
   ],
   "metadata": {
    "collapsed": false
   }
  },
  {
   "cell_type": "code",
   "execution_count": null,
   "outputs": [],
   "source": [
    "df_net = pd.read_csv(CaseName+'/oT_Data_Network_'+CaseName+'.csv', index_col=[0])\n",
    "df_net.fillna(0  , inplace=True)\n",
    "df_net"
   ],
   "metadata": {
    "collapsed": false,
    "pycharm": {
     "name": "#%%\n"
    }
   }
  },
  {
   "cell_type": "markdown",
   "source": [
    "### Having hourly resolution"
   ],
   "metadata": {
    "collapsed": false
   }
  },
  {
   "cell_type": "code",
   "execution_count": null,
   "outputs": [],
   "source": [
    "df = pd.read_csv(CaseName+'/oT_Data_Parameter_'+CaseName+'.csv', index_col=[0])"
   ],
   "metadata": {
    "collapsed": false,
    "pycharm": {
     "name": "#%%\n"
    }
   }
  },
  {
   "cell_type": "code",
   "execution_count": null,
   "outputs": [],
   "source": [
    "df['TimeStep'] = 1\n",
    "df.head()"
   ],
   "metadata": {
    "collapsed": false,
    "pycharm": {
     "name": "#%%\n"
    }
   }
  },
  {
   "cell_type": "code",
   "execution_count": null,
   "outputs": [],
   "source": [
    "df.to_csv(CaseName+'/oT_Data_Parameter_'+CaseName+'.csv', index=True)"
   ],
   "metadata": {
    "collapsed": false,
    "pycharm": {
     "name": "#%%\n"
    }
   }
  },
  {
   "cell_type": "markdown",
   "source": [
    "### Setting up the model options to activate binary variables\n",
    "The openTEPES model has a CSV file called ``oT_Data_Option_9n_ByStages_UC.csv``. This file control if the model considers relaxed binary variables or proper binary variables.\n",
    "For our example, we activate only unit commitment variables as follows:"
   ],
   "metadata": {
    "collapsed": false
   }
  },
  {
   "cell_type": "code",
   "execution_count": null,
   "outputs": [],
   "source": [
    "df = pd.read_csv(CaseName+'/oT_Data_Option_'+CaseName+'.csv', index_col=[0])"
   ],
   "metadata": {
    "collapsed": false,
    "pycharm": {
     "name": "#%%\n"
    }
   }
  },
  {
   "cell_type": "code",
   "execution_count": null,
   "outputs": [],
   "source": [
    "df['IndBinNetInvest'] = 1\n",
    "df.head()"
   ],
   "metadata": {
    "collapsed": false,
    "pycharm": {
     "name": "#%%\n"
    }
   }
  },
  {
   "cell_type": "code",
   "execution_count": null,
   "outputs": [],
   "source": [
    "df.to_csv(CaseName+'/oT_Data_Option_'+CaseName+'.csv', index=True)"
   ],
   "metadata": {
    "collapsed": false,
    "pycharm": {
     "name": "#%%\n"
    }
   }
  },
  {
   "cell_type": "markdown",
   "source": [
    "Moreover, we need to fill the column ``BinaryInvestment`` in the CSV file ``oT_Data_Network_9n_ByStages_UC.csv`` as follows:"
   ],
   "metadata": {
    "collapsed": false
   }
  },
  {
   "cell_type": "code",
   "execution_count": null,
   "outputs": [],
   "source": [
    "df_net['BinaryInvestment'] = 'Yes'\n",
    "df_net"
   ],
   "metadata": {
    "collapsed": false,
    "pycharm": {
     "name": "#%%\n"
    }
   }
  },
  {
   "cell_type": "code",
   "execution_count": null,
   "outputs": [],
   "source": [
    "df_net.to_csv(CaseName+'/oT_Data_Network_'+CaseName+'.csv', index=True)"
   ],
   "metadata": {
    "collapsed": false,
    "pycharm": {
     "name": "#%%\n"
    }
   }
  }
 ],
 "metadata": {
  "kernelspec": {
   "display_name": "Python 3 (ipykernel)",
   "language": "python",
   "name": "python3"
  },
  "language_info": {
   "codemirror_mode": {
    "name": "ipython",
    "version": 3
   },
   "file_extension": ".py",
   "mimetype": "text/x-python",
   "name": "python",
   "nbconvert_exporter": "python",
   "pygments_lexer": "ipython3",
   "version": "3.9.5"
  }
 },
 "nbformat": 4,
 "nbformat_minor": 1
}