{
 "cells": [
  {
   "cell_type": "markdown",
   "id": "183aacec",
   "metadata": {},
   "source": [
    "# Operation State Aggregation Per Days"
   ]
  },
  {
   "cell_type": "markdown",
   "id": "4f549e98",
   "metadata": {},
   "source": [
    "## Data Transformation"
   ]
  },
  {
   "cell_type": "markdown",
   "id": "ede58676",
   "metadata": {},
   "source": [
    "#### Importing libraries"
   ]
  },
  {
   "cell_type": "code",
   "execution_count": 16,
   "id": "fbccc79d",
   "metadata": {},
   "outputs": [],
   "source": [
    "# libraries\n",
    "import math\n",
    "import copy\n",
    "import os\n",
    "import pandas as pd\n",
    "import matplotlib.pyplot as plt\n",
    "import numpy as np\n",
    "import tsam.timeseriesaggregation as tsam"
   ]
  },
  {
   "cell_type": "markdown",
   "id": "31ce72e7",
   "metadata": {},
   "source": [
    "#### Setting up the path"
   ]
  },
  {
   "cell_type": "code",
   "execution_count": null,
   "id": "cb19a79f",
   "metadata": {},
   "outputs": [],
   "source": [
    "DirName = os.getcwd()\n",
    "CaseName  = '9n'\n",
    "CaseName1 = '9n_ByStages'\n",
    "_path = os.path.join(DirName, CaseName)\n",
    "_path1 = os.path.join(DirName, CaseName1)"
   ]
  },
  {
   "cell_type": "markdown",
   "id": "77487f45",
   "metadata": {},
   "source": [
    "#### Loading data from CSV"
   ]
  },
  {
   "cell_type": "code",
   "execution_count": 18,
   "id": "81936354",
   "metadata": {},
   "outputs": [],
   "source": [
    "dfProfiles = pd.read_csv(_path+'/oT_Data_Profiles_'              +CaseName+'.csv', index_col=[0,1,2])"
   ]
  },
  {
   "cell_type": "markdown",
   "id": "c82d793f",
   "metadata": {},
   "source": [
    "#### Naming Indexes"
   ]
  },
  {
   "cell_type": "code",
   "execution_count": 19,
   "id": "f4d81178",
   "metadata": {},
   "outputs": [],
   "source": [
    "dfProfiles.index.names = ['Scenario', 'Period', 'LoadLevel']"
   ]
  },
  {
   "cell_type": "markdown",
   "id": "275645db",
   "metadata": {},
   "source": [
    "#### Reset indexes and rename column of values"
   ]
  },
  {
   "cell_type": "code",
   "execution_count": 20,
   "id": "f6eeae77",
   "metadata": {},
   "outputs": [],
   "source": [
    "dfProfiles = dfProfiles.reset_index()"
   ]
  },
  {
   "cell_type": "code",
   "execution_count": 21,
   "id": "6ced7f4b",
   "metadata": {},
   "outputs": [],
   "source": [
    "dfProfiles['Date'] = dfProfiles['LoadLevel']\n",
    "dfProfiles['Date'] = dfProfiles['Date'].str.slice(0, -6)\n",
    "dfProfiles['Date'] = pd.to_datetime(dfProfiles['Date'], errors='coerce')"
   ]
  },
  {
   "cell_type": "code",
   "execution_count": 22,
   "id": "9b1b477e",
   "metadata": {},
   "outputs": [
    {
     "data": {
      "text/html": [
       "<div>\n",
       "<style scoped>\n",
       "    .dataframe tbody tr th:only-of-type {\n",
       "        vertical-align: middle;\n",
       "    }\n",
       "\n",
       "    .dataframe tbody tr th {\n",
       "        vertical-align: top;\n",
       "    }\n",
       "\n",
       "    .dataframe thead th {\n",
       "        text-align: right;\n",
       "    }\n",
       "</style>\n",
       "<table border=\"1\" class=\"dataframe\">\n",
       "  <thead>\n",
       "    <tr style=\"text-align: right;\">\n",
       "      <th></th>\n",
       "      <th>Scenario</th>\n",
       "      <th>Period</th>\n",
       "      <th>LoadLevel</th>\n",
       "      <th>Demand</th>\n",
       "      <th>Solar</th>\n",
       "      <th>Wind</th>\n",
       "      <th>Hydro</th>\n",
       "    </tr>\n",
       "    <tr>\n",
       "      <th>Date</th>\n",
       "      <th></th>\n",
       "      <th></th>\n",
       "      <th></th>\n",
       "      <th></th>\n",
       "      <th></th>\n",
       "      <th></th>\n",
       "      <th></th>\n",
       "    </tr>\n",
       "  </thead>\n",
       "  <tbody>\n",
       "    <tr>\n",
       "      <th>2030-01-01 00:00:00</th>\n",
       "      <td>sc01</td>\n",
       "      <td>y2030</td>\n",
       "      <td>2030-01-01T00:00:00+01:00</td>\n",
       "      <td>9087.576562</td>\n",
       "      <td>0.00075</td>\n",
       "      <td>941.481509</td>\n",
       "      <td>280.330471</td>\n",
       "    </tr>\n",
       "    <tr>\n",
       "      <th>2030-01-01 01:00:00</th>\n",
       "      <td>sc01</td>\n",
       "      <td>y2030</td>\n",
       "      <td>2030-01-01T01:00:00+01:00</td>\n",
       "      <td>8603.842333</td>\n",
       "      <td>0.00075</td>\n",
       "      <td>1000.629683</td>\n",
       "      <td>258.340755</td>\n",
       "    </tr>\n",
       "    <tr>\n",
       "      <th>2030-01-01 02:00:00</th>\n",
       "      <td>sc01</td>\n",
       "      <td>y2030</td>\n",
       "      <td>2030-01-01T02:00:00+01:00</td>\n",
       "      <td>8334.790300</td>\n",
       "      <td>0.00075</td>\n",
       "      <td>1048.676407</td>\n",
       "      <td>258.419965</td>\n",
       "    </tr>\n",
       "    <tr>\n",
       "      <th>2030-01-01 03:00:00</th>\n",
       "      <td>sc01</td>\n",
       "      <td>y2030</td>\n",
       "      <td>2030-01-01T03:00:00+01:00</td>\n",
       "      <td>8199.483078</td>\n",
       "      <td>0.00075</td>\n",
       "      <td>1086.565557</td>\n",
       "      <td>258.301045</td>\n",
       "    </tr>\n",
       "    <tr>\n",
       "      <th>2030-01-01 04:00:00</th>\n",
       "      <td>sc01</td>\n",
       "      <td>y2030</td>\n",
       "      <td>2030-01-01T04:00:00+01:00</td>\n",
       "      <td>8291.117627</td>\n",
       "      <td>0.00075</td>\n",
       "      <td>1123.035170</td>\n",
       "      <td>258.278661</td>\n",
       "    </tr>\n",
       "    <tr>\n",
       "      <th>...</th>\n",
       "      <td>...</td>\n",
       "      <td>...</td>\n",
       "      <td>...</td>\n",
       "      <td>...</td>\n",
       "      <td>...</td>\n",
       "      <td>...</td>\n",
       "      <td>...</td>\n",
       "    </tr>\n",
       "    <tr>\n",
       "      <th>2030-12-30 19:00:00</th>\n",
       "      <td>sc01</td>\n",
       "      <td>y2030</td>\n",
       "      <td>2030-12-30T19:00:00+01:00</td>\n",
       "      <td>10842.142360</td>\n",
       "      <td>0.00075</td>\n",
       "      <td>465.573226</td>\n",
       "      <td>758.348403</td>\n",
       "    </tr>\n",
       "    <tr>\n",
       "      <th>2030-12-30 20:00:00</th>\n",
       "      <td>sc01</td>\n",
       "      <td>y2030</td>\n",
       "      <td>2030-12-30T20:00:00+01:00</td>\n",
       "      <td>9618.560391</td>\n",
       "      <td>0.00075</td>\n",
       "      <td>457.646891</td>\n",
       "      <td>759.638723</td>\n",
       "    </tr>\n",
       "    <tr>\n",
       "      <th>2030-12-30 21:00:00</th>\n",
       "      <td>sc01</td>\n",
       "      <td>y2030</td>\n",
       "      <td>2030-12-30T21:00:00+01:00</td>\n",
       "      <td>8651.192879</td>\n",
       "      <td>0.00075</td>\n",
       "      <td>456.989565</td>\n",
       "      <td>760.978821</td>\n",
       "    </tr>\n",
       "    <tr>\n",
       "      <th>2030-12-30 22:00:00</th>\n",
       "      <td>sc01</td>\n",
       "      <td>y2030</td>\n",
       "      <td>2030-12-30T22:00:00+01:00</td>\n",
       "      <td>8179.224425</td>\n",
       "      <td>0.00075</td>\n",
       "      <td>467.663370</td>\n",
       "      <td>749.706165</td>\n",
       "    </tr>\n",
       "    <tr>\n",
       "      <th>2030-12-30 23:00:00</th>\n",
       "      <td>sc01</td>\n",
       "      <td>y2030</td>\n",
       "      <td>2030-12-30T23:00:00+01:00</td>\n",
       "      <td>8015.477459</td>\n",
       "      <td>0.00075</td>\n",
       "      <td>491.193284</td>\n",
       "      <td>610.419905</td>\n",
       "    </tr>\n",
       "  </tbody>\n",
       "</table>\n",
       "<p>8736 rows × 7 columns</p>\n",
       "</div>"
      ],
      "text/plain": [
       "                    Scenario Period                  LoadLevel        Demand  \\\n",
       "Date                                                                           \n",
       "2030-01-01 00:00:00     sc01  y2030  2030-01-01T00:00:00+01:00   9087.576562   \n",
       "2030-01-01 01:00:00     sc01  y2030  2030-01-01T01:00:00+01:00   8603.842333   \n",
       "2030-01-01 02:00:00     sc01  y2030  2030-01-01T02:00:00+01:00   8334.790300   \n",
       "2030-01-01 03:00:00     sc01  y2030  2030-01-01T03:00:00+01:00   8199.483078   \n",
       "2030-01-01 04:00:00     sc01  y2030  2030-01-01T04:00:00+01:00   8291.117627   \n",
       "...                      ...    ...                        ...           ...   \n",
       "2030-12-30 19:00:00     sc01  y2030  2030-12-30T19:00:00+01:00  10842.142360   \n",
       "2030-12-30 20:00:00     sc01  y2030  2030-12-30T20:00:00+01:00   9618.560391   \n",
       "2030-12-30 21:00:00     sc01  y2030  2030-12-30T21:00:00+01:00   8651.192879   \n",
       "2030-12-30 22:00:00     sc01  y2030  2030-12-30T22:00:00+01:00   8179.224425   \n",
       "2030-12-30 23:00:00     sc01  y2030  2030-12-30T23:00:00+01:00   8015.477459   \n",
       "\n",
       "                       Solar         Wind       Hydro  \n",
       "Date                                                   \n",
       "2030-01-01 00:00:00  0.00075   941.481509  280.330471  \n",
       "2030-01-01 01:00:00  0.00075  1000.629683  258.340755  \n",
       "2030-01-01 02:00:00  0.00075  1048.676407  258.419965  \n",
       "2030-01-01 03:00:00  0.00075  1086.565557  258.301045  \n",
       "2030-01-01 04:00:00  0.00075  1123.035170  258.278661  \n",
       "...                      ...          ...         ...  \n",
       "2030-12-30 19:00:00  0.00075   465.573226  758.348403  \n",
       "2030-12-30 20:00:00  0.00075   457.646891  759.638723  \n",
       "2030-12-30 21:00:00  0.00075   456.989565  760.978821  \n",
       "2030-12-30 22:00:00  0.00075   467.663370  749.706165  \n",
       "2030-12-30 23:00:00  0.00075   491.193284  610.419905  \n",
       "\n",
       "[8736 rows x 7 columns]"
      ]
     },
     "execution_count": 22,
     "metadata": {},
     "output_type": "execute_result"
    }
   ],
   "source": [
    "dfProfiles.set_index(['Date'])"
   ]
  },
  {
   "cell_type": "code",
   "execution_count": 23,
   "id": "4b726554",
   "metadata": {},
   "outputs": [],
   "source": [
    "# remove the column LoadLevel\n",
    "dfProfiles = dfProfiles.drop(['Scenario','Period','LoadLevel'], axis=1)"
   ]
  },
  {
   "cell_type": "code",
   "execution_count": 24,
   "id": "f6f32e6f",
   "metadata": {},
   "outputs": [],
   "source": [
    "dfProfiles = dfProfiles.set_index(['Date'])"
   ]
  },
  {
   "cell_type": "code",
   "execution_count": 25,
   "id": "98e4a875",
   "metadata": {},
   "outputs": [
    {
     "data": {
      "text/html": [
       "<div>\n",
       "<style scoped>\n",
       "    .dataframe tbody tr th:only-of-type {\n",
       "        vertical-align: middle;\n",
       "    }\n",
       "\n",
       "    .dataframe tbody tr th {\n",
       "        vertical-align: top;\n",
       "    }\n",
       "\n",
       "    .dataframe thead th {\n",
       "        text-align: right;\n",
       "    }\n",
       "</style>\n",
       "<table border=\"1\" class=\"dataframe\">\n",
       "  <thead>\n",
       "    <tr style=\"text-align: right;\">\n",
       "      <th></th>\n",
       "      <th>Demand</th>\n",
       "      <th>Solar</th>\n",
       "      <th>Wind</th>\n",
       "      <th>Hydro</th>\n",
       "    </tr>\n",
       "    <tr>\n",
       "      <th>Date</th>\n",
       "      <th></th>\n",
       "      <th></th>\n",
       "      <th></th>\n",
       "      <th></th>\n",
       "    </tr>\n",
       "  </thead>\n",
       "  <tbody>\n",
       "    <tr>\n",
       "      <th>2030-01-01 00:00:00</th>\n",
       "      <td>9087.576562</td>\n",
       "      <td>0.00075</td>\n",
       "      <td>941.481509</td>\n",
       "      <td>280.330471</td>\n",
       "    </tr>\n",
       "    <tr>\n",
       "      <th>2030-01-01 01:00:00</th>\n",
       "      <td>8603.842333</td>\n",
       "      <td>0.00075</td>\n",
       "      <td>1000.629683</td>\n",
       "      <td>258.340755</td>\n",
       "    </tr>\n",
       "    <tr>\n",
       "      <th>2030-01-01 02:00:00</th>\n",
       "      <td>8334.790300</td>\n",
       "      <td>0.00075</td>\n",
       "      <td>1048.676407</td>\n",
       "      <td>258.419965</td>\n",
       "    </tr>\n",
       "    <tr>\n",
       "      <th>2030-01-01 03:00:00</th>\n",
       "      <td>8199.483078</td>\n",
       "      <td>0.00075</td>\n",
       "      <td>1086.565557</td>\n",
       "      <td>258.301045</td>\n",
       "    </tr>\n",
       "    <tr>\n",
       "      <th>2030-01-01 04:00:00</th>\n",
       "      <td>8291.117627</td>\n",
       "      <td>0.00075</td>\n",
       "      <td>1123.035170</td>\n",
       "      <td>258.278661</td>\n",
       "    </tr>\n",
       "    <tr>\n",
       "      <th>...</th>\n",
       "      <td>...</td>\n",
       "      <td>...</td>\n",
       "      <td>...</td>\n",
       "      <td>...</td>\n",
       "    </tr>\n",
       "    <tr>\n",
       "      <th>2030-12-30 19:00:00</th>\n",
       "      <td>10842.142360</td>\n",
       "      <td>0.00075</td>\n",
       "      <td>465.573226</td>\n",
       "      <td>758.348403</td>\n",
       "    </tr>\n",
       "    <tr>\n",
       "      <th>2030-12-30 20:00:00</th>\n",
       "      <td>9618.560391</td>\n",
       "      <td>0.00075</td>\n",
       "      <td>457.646891</td>\n",
       "      <td>759.638723</td>\n",
       "    </tr>\n",
       "    <tr>\n",
       "      <th>2030-12-30 21:00:00</th>\n",
       "      <td>8651.192879</td>\n",
       "      <td>0.00075</td>\n",
       "      <td>456.989565</td>\n",
       "      <td>760.978821</td>\n",
       "    </tr>\n",
       "    <tr>\n",
       "      <th>2030-12-30 22:00:00</th>\n",
       "      <td>8179.224425</td>\n",
       "      <td>0.00075</td>\n",
       "      <td>467.663370</td>\n",
       "      <td>749.706165</td>\n",
       "    </tr>\n",
       "    <tr>\n",
       "      <th>2030-12-30 23:00:00</th>\n",
       "      <td>8015.477459</td>\n",
       "      <td>0.00075</td>\n",
       "      <td>491.193284</td>\n",
       "      <td>610.419905</td>\n",
       "    </tr>\n",
       "  </tbody>\n",
       "</table>\n",
       "<p>8736 rows × 4 columns</p>\n",
       "</div>"
      ],
      "text/plain": [
       "                           Demand    Solar         Wind       Hydro\n",
       "Date                                                               \n",
       "2030-01-01 00:00:00   9087.576562  0.00075   941.481509  280.330471\n",
       "2030-01-01 01:00:00   8603.842333  0.00075  1000.629683  258.340755\n",
       "2030-01-01 02:00:00   8334.790300  0.00075  1048.676407  258.419965\n",
       "2030-01-01 03:00:00   8199.483078  0.00075  1086.565557  258.301045\n",
       "2030-01-01 04:00:00   8291.117627  0.00075  1123.035170  258.278661\n",
       "...                           ...      ...          ...         ...\n",
       "2030-12-30 19:00:00  10842.142360  0.00075   465.573226  758.348403\n",
       "2030-12-30 20:00:00   9618.560391  0.00075   457.646891  759.638723\n",
       "2030-12-30 21:00:00   8651.192879  0.00075   456.989565  760.978821\n",
       "2030-12-30 22:00:00   8179.224425  0.00075   467.663370  749.706165\n",
       "2030-12-30 23:00:00   8015.477459  0.00075   491.193284  610.419905\n",
       "\n",
       "[8736 rows x 4 columns]"
      ]
     },
     "execution_count": 25,
     "metadata": {},
     "output_type": "execute_result"
    }
   ],
   "source": [
    "dfProfiles"
   ]
  },
  {
   "cell_type": "code",
   "execution_count": 26,
   "id": "c12ce361",
   "metadata": {},
   "outputs": [
    {
     "data": {
      "image/png": "[encoded data removed]",
      "text/plain": [
       "<Figure size 640x480 with 4 Axes>"
      ]
     },
     "metadata": {},
     "output_type": "display_data"
    }
   ],
   "source": [
    "axes = dfProfiles.plot(sharex = True, subplots = True)"
   ]
  },
  {
   "cell_type": "code",
   "execution_count": 27,
   "id": "5caefca3",
   "metadata": {},
   "outputs": [],
   "source": [
    "def plotTS(data, periodlength, vmin, vmax):\n",
    "    fig, axes = plt.subplots(figsize = [6, 2], dpi = 100, nrows = 1, ncols = 1)\n",
    "    stacked, timeindex = tsam.unstackToPeriods(copy.deepcopy(data), periodlength)\n",
    "    cax = axes.imshow(stacked.values.T, interpolation = 'nearest', vmin = vmin, vmax = vmax)\n",
    "    axes.set_aspect('auto')  \n",
    "    axes.set_ylabel('Hour')\n",
    "    plt.xlabel('Day')\n",
    "\n",
    "    fig.subplots_adjust(right = 1.2)\n",
    "    cbar=plt.colorbar(cax)    \n",
    "    cbar.set_label('Demand [MW]')"
   ]
  },
  {
   "cell_type": "markdown",
   "id": "628779d1",
   "metadata": {},
   "source": [
    "## Aggregate the data\n",
    "#### Initialize an aggregation to typical weeks."
   ]
  },
  {
   "cell_type": "code",
   "execution_count": 28,
   "id": "6d710ba4",
   "metadata": {},
   "outputs": [],
   "source": [
    "aggregation = tsam.TimeSeriesAggregation(dfProfiles, noTypicalPeriods = 5, hoursPerPeriod = 24*7, \n",
    "                                        clusterMethod = 'k_medoids', \n",
    "                                        extremePeriodMethod = 'new_cluster_center',\n",
    "                                       addPeakMin = ['Hydro','Solar','Wind'], addPeakMax = ['Demand'] )"
   ]
  },
  {
   "cell_type": "markdown",
   "id": "5264ecbf",
   "metadata": {},
   "source": [
    "#### Create the typical periods"
   ]
  },
  {
   "cell_type": "code",
   "execution_count": 29,
   "id": "e75082fb",
   "metadata": {},
   "outputs": [
    {
     "name": "stderr",
     "output_type": "stream",
     "text": [
      "c:\\Users\\erik_\\miniconda3\\lib\\site-packages\\tsam\\timeseriesaggregation.py:1079: UserWarning: Something went wrong: At least one minimal value of the aggregated time series exceeds the minimal value the input time series\n",
      "  warnings.warn(\n"
     ]
    }
   ],
   "source": [
    "typPeriods = aggregation.createTypicalPeriods()"
   ]
  },
  {
   "cell_type": "code",
   "execution_count": 30,
   "id": "02e8cb54",
   "metadata": {},
   "outputs": [],
   "source": [
    "typPeriods.to_csv(_path+'/oT_Aggr_TypicalPeriods_'              +CaseName+'.csv')"
   ]
  },
  {
   "cell_type": "code",
   "execution_count": 31,
   "id": "d57e2663",
   "metadata": {},
   "outputs": [],
   "source": [
    "predictedPeriods = aggregation.predictOriginalData()"
   ]
  },
  {
   "cell_type": "code",
   "execution_count": 32,
   "id": "53f0760e",
   "metadata": {},
   "outputs": [
    {
     "data": {
      "image/png": "[encoded data removed]",
      "text/plain": [
       "<Figure size 600x200 with 2 Axes>"
      ]
     },
     "metadata": {},
     "output_type": "display_data"
    }
   ],
   "source": [
    "\n",
    "plotTS(predictedPeriods['Demand'], 24, vmin = dfProfiles['Demand'].min(), vmax = dfProfiles['Demand'].max())"
   ]
  },
  {
   "cell_type": "markdown",
   "id": "a502e725",
   "metadata": {},
   "source": [
    "#### Show the resulting order of aggregated periods"
   ]
  },
  {
   "cell_type": "markdown",
   "id": "8f52bd95",
   "metadata": {},
   "source": [
    "\n",
    "###### Calculates how the original index is represented by the old index"
   ]
  },
  {
   "cell_type": "code",
   "execution_count": 33,
   "id": "0dc8ecbd",
   "metadata": {},
   "outputs": [],
   "source": [
    "indexMatching = aggregation.indexMatching()"
   ]
  },
  {
   "cell_type": "markdown",
   "id": "e22f27bc",
   "metadata": {},
   "source": [
    "##### Plot the appearance of the 5+2 aggregated periods in the original timeframe"
   ]
  },
  {
   "cell_type": "code",
   "execution_count": 34,
   "id": "652f14bd",
   "metadata": {},
   "outputs": [],
   "source": [
    "visDF = pd.DataFrame(0, index = indexMatching.index,\n",
    "                     columns = aggregation.clusterPeriodIdx)\n",
    "for col in visDF.columns:\n",
    "    visDF.loc[indexMatching['PeriodNum']==col,col] = 1"
   ]
  },
  {
   "cell_type": "code",
   "execution_count": 35,
   "id": "d026fe38",
   "metadata": {},
   "outputs": [
    {
     "data": {
      "text/plain": [
       "<Axes: xlabel='Date'>"
      ]
     },
     "execution_count": 35,
     "metadata": {},
     "output_type": "execute_result"
    },
    {
     "data": {
      "image/png": "[encoded data removed]",
      "text/plain": [
       "<Figure size 640x480 with 1 Axes>"
      ]
     },
     "metadata": {},
     "output_type": "display_data"
    }
   ],
   "source": [
    "\n",
    "visDF.plot(kind = 'area', cmap = 'viridis', lw = 0, ylim = [0,1])"
   ]
  },
  {
   "cell_type": "markdown",
   "id": "c1022790",
   "metadata": {},
   "source": [
    "#### Get input for potential energy system optimization"
   ]
  },
  {
   "cell_type": "code",
   "execution_count": 36,
   "id": "99a10a01",
   "metadata": {},
   "outputs": [
    {
     "data": {
      "text/plain": [
       "{0: 10, 1: 6, 2: 10, 3: 11, 4: 5, 5: 2, 6: 3, 7: 3, 8: 2}"
      ]
     },
     "execution_count": 36,
     "metadata": {},
     "output_type": "execute_result"
    }
   ],
   "source": [
    "aggregation.clusterPeriodNoOccur"
   ]
  },
  {
   "cell_type": "code",
   "execution_count": 37,
   "id": "0225d3c3",
   "metadata": {},
   "outputs": [
    {
     "data": {
      "text/plain": [
       "array([0, 1, 2, 3, 4, 5, 6, 7, 8])"
      ]
     },
     "execution_count": 37,
     "metadata": {},
     "output_type": "execute_result"
    }
   ],
   "source": [
    "aggregation.clusterPeriodIdx"
   ]
  },
  {
   "cell_type": "code",
   "execution_count": 38,
   "id": "963f6268",
   "metadata": {},
   "outputs": [
    {
     "data": {
      "text/plain": [
       "[Text(0, 0.5, 'Number of occurence'), Text(0.5, 0, 'Stage index')]"
      ]
     },
     "execution_count": 38,
     "metadata": {},
     "output_type": "execute_result"
    },
    {
     "data": {
      "image/png": "[encoded data removed]",
      "text/plain": [
       "<Figure size 640x480 with 1 Axes>"
      ]
     },
     "metadata": {},
     "output_type": "display_data"
    }
   ],
   "source": [
    "ax = pd.Series(aggregation.clusterPeriodNoOccur).plot(kind='bar')\n",
    "ax.set(ylabel = 'Number of occurence', xlabel = 'Stage index')"
   ]
  },
  {
   "cell_type": "code",
   "execution_count": 39,
   "id": "c5b2c646",
   "metadata": {},
   "outputs": [],
   "source": [
    "a = aggregation.clusterOrder"
   ]
  },
  {
   "cell_type": "code",
   "execution_count": 40,
   "id": "cf15b2e4",
   "metadata": {},
   "outputs": [
    {
     "name": "stdout",
     "output_type": "stream",
     "text": [
      "[7, 3, 8, 8, 3, 3, 0, 0, 3, 4, 0, 0, 4, 0, 0, 1, 1, 7, 0, 1, 1, 2, 1, 1, 2, 2, 2, 0, 2, 2, 2, 2, 5, 2, 2, 5, 0, 3, 4, 0, 3, 3, 3, 7, 4, 6, 3, 3, 4, 6, 6, 3]\n"
     ]
    }
   ],
   "source": [
    "print(a)"
   ]
  },
  {
   "cell_type": "code",
   "execution_count": 41,
   "id": "3483aa60",
   "metadata": {},
   "outputs": [
    {
     "data": {
      "text/html": [
       "<div>\n",
       "<style scoped>\n",
       "    .dataframe tbody tr th:only-of-type {\n",
       "        vertical-align: middle;\n",
       "    }\n",
       "\n",
       "    .dataframe tbody tr th {\n",
       "        vertical-align: top;\n",
       "    }\n",
       "\n",
       "    .dataframe thead th {\n",
       "        text-align: right;\n",
       "    }\n",
       "</style>\n",
       "<table border=\"1\" class=\"dataframe\">\n",
       "  <thead>\n",
       "    <tr style=\"text-align: right;\">\n",
       "      <th></th>\n",
       "      <th></th>\n",
       "      <th>Demand</th>\n",
       "      <th>Hydro</th>\n",
       "      <th>Solar</th>\n",
       "      <th>Wind</th>\n",
       "    </tr>\n",
       "    <tr>\n",
       "      <th></th>\n",
       "      <th>TimeStep</th>\n",
       "      <th></th>\n",
       "      <th></th>\n",
       "      <th></th>\n",
       "      <th></th>\n",
       "    </tr>\n",
       "  </thead>\n",
       "  <tbody>\n",
       "    <tr>\n",
       "      <th rowspan=\"5\" valign=\"top\">0</th>\n",
       "      <th>0</th>\n",
       "      <td>8596.698216</td>\n",
       "      <td>320.496874</td>\n",
       "      <td>0.00075</td>\n",
       "      <td>4848.022970</td>\n",
       "    </tr>\n",
       "    <tr>\n",
       "      <th>1</th>\n",
       "      <td>7923.411888</td>\n",
       "      <td>275.243665</td>\n",
       "      <td>0.00075</td>\n",
       "      <td>4780.367669</td>\n",
       "    </tr>\n",
       "    <tr>\n",
       "      <th>2</th>\n",
       "      <td>7839.612000</td>\n",
       "      <td>273.710323</td>\n",
       "      <td>0.00075</td>\n",
       "      <td>4659.440619</td>\n",
       "    </tr>\n",
       "    <tr>\n",
       "      <th>3</th>\n",
       "      <td>7938.511541</td>\n",
       "      <td>274.381692</td>\n",
       "      <td>0.00075</td>\n",
       "      <td>4491.985617</td>\n",
       "    </tr>\n",
       "    <tr>\n",
       "      <th>4</th>\n",
       "      <td>8183.679263</td>\n",
       "      <td>274.488756</td>\n",
       "      <td>0.00075</td>\n",
       "      <td>4256.511138</td>\n",
       "    </tr>\n",
       "  </tbody>\n",
       "</table>\n",
       "</div>"
      ],
      "text/plain": [
       "                 Demand       Hydro    Solar         Wind\n",
       "  TimeStep                                               \n",
       "0 0         8596.698216  320.496874  0.00075  4848.022970\n",
       "  1         7923.411888  275.243665  0.00075  4780.367669\n",
       "  2         7839.612000  273.710323  0.00075  4659.440619\n",
       "  3         7938.511541  274.381692  0.00075  4491.985617\n",
       "  4         8183.679263  274.488756  0.00075  4256.511138"
      ]
     },
     "execution_count": 41,
     "metadata": {},
     "output_type": "execute_result"
    }
   ],
   "source": [
    "aggregation.typicalPeriods.head()"
   ]
  },
  {
   "cell_type": "code",
   "execution_count": 42,
   "id": "f82ca560",
   "metadata": {},
   "outputs": [
    {
     "data": {
      "text/plain": [
       "[10, 20, 28, 41, 44]"
      ]
     },
     "execution_count": 42,
     "metadata": {},
     "output_type": "execute_result"
    }
   ],
   "source": [
    "aggregation.clusterCenterIndices"
   ]
  },
  {
   "cell_type": "code",
   "execution_count": 43,
   "id": "9297cf0d",
   "metadata": {},
   "outputs": [
    {
     "data": {
      "text/plain": [
       "[5, 6, 7, 8]"
      ]
     },
     "execution_count": 43,
     "metadata": {},
     "output_type": "execute_result"
    }
   ],
   "source": [
    "aggregation.extremeClusterIdx"
   ]
  },
  {
   "cell_type": "code",
   "execution_count": 44,
   "id": "50105a5b",
   "metadata": {},
   "outputs": [
    {
     "data": {
      "text/plain": [
       "{'Demand': 'mean', 'Hydro': 'mean', 'Solar': 'mean', 'Wind': 'mean'}"
      ]
     },
     "execution_count": 44,
     "metadata": {},
     "output_type": "execute_result"
    }
   ],
   "source": [
    "aggregation.representationDict"
   ]
  },
  {
   "cell_type": "code",
   "execution_count": null,
   "id": "dfe290ff",
   "metadata": {},
   "outputs": [],
   "source": []
  },
  {
   "cell_type": "code",
   "execution_count": null,
   "id": "9ec17ad3",
   "metadata": {},
   "outputs": [],
   "source": []
  }
 ],
 "metadata": {
  "kernelspec": {
   "display_name": "Python 3 (ipykernel)",
   "language": "python",
   "name": "python3"
  },
  "language_info": {
   "codemirror_mode": {
    "name": "ipython",
    "version": 3
   },
   "file_extension": ".py",
   "mimetype": "text/x-python",
   "name": "python",
   "nbconvert_exporter": "python",
   "pygments_lexer": "ipython3",
   "version": "3.10.11"
  }
 },
 "nbformat": 4,
 "nbformat_minor": 5
}
