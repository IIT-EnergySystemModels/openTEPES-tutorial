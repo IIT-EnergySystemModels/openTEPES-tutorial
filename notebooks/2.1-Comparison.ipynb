{
 "cells": [
  {
   "cell_type": "markdown",
   "metadata": {
    "pycharm": {
     "name": "#%% md\n"
    }
   },
   "source": [
    "## Comparison of the total output per technology considering TimeStep equal to 3 and 4"
   ]
  },
  {
   "cell_type": "code",
   "execution_count": 1,
   "metadata": {
    "pycharm": {
     "name": "#%%\n"
    }
   },
   "outputs": [],
   "source": [
    "import altair as alt\n",
    "import pandas as pd\n",
    "from openTEPES.openTEPES import openTEPES_run"
   ]
  },
  {
   "cell_type": "markdown",
   "metadata": {
    "pycharm": {
     "name": "#%% md\n"
    }
   },
   "source": [
    "### Defining the DirName, CaseName, SolverName, and IndLogConsole."
   ]
  },
  {
   "cell_type": "code",
   "execution_count": 2,
   "metadata": {
    "pycharm": {
     "name": "#%%\n"
    }
   },
   "outputs": [],
   "source": [
    "DirName =''\n",
    "CaseName = '9n_ByStages'\n",
    "SolverName = 'appsi_highs'\n",
    "IndLogConsole = 'No'"
   ]
  },
  {
   "cell_type": "markdown",
   "metadata": {
    "pycharm": {
     "name": "#%% md\n"
    }
   },
   "source": [
    "In the folder called ``9n_ByStages``, you can find the CSV file ``oT_Data_Parameter_9n_ByStages`` which is also shown as follows:"
   ]
  },
  {
   "cell_type": "code",
   "execution_count": 3,
   "metadata": {
    "pycharm": {
     "name": "#%%\n"
    }
   },
   "outputs": [
    {
     "data": {
      "text/html": [
       "<div>\n",
       "<style scoped>\n",
       "    .dataframe tbody tr th:only-of-type {\n",
       "        vertical-align: middle;\n",
       "    }\n",
       "\n",
       "    .dataframe tbody tr th {\n",
       "        vertical-align: top;\n",
       "    }\n",
       "\n",
       "    .dataframe thead th {\n",
       "        text-align: right;\n",
       "    }\n",
       "</style>\n",
       "<table border=\"1\" class=\"dataframe\">\n",
       "  <thead>\n",
       "    <tr style=\"text-align: right;\">\n",
       "      <th></th>\n",
       "      <th>ENSCost</th>\n",
       "      <th>CO2Cost</th>\n",
       "      <th>UpReserveActivation</th>\n",
       "      <th>DwReserveActivation</th>\n",
       "      <th>MinRatioDwUp</th>\n",
       "      <th>MaxRatioDwUp</th>\n",
       "      <th>SBase</th>\n",
       "      <th>ReferenceNode</th>\n",
       "      <th>TimeStep</th>\n",
       "    </tr>\n",
       "  </thead>\n",
       "  <tbody>\n",
       "    <tr>\n",
       "      <th>Parameters</th>\n",
       "      <td>10000</td>\n",
       "      <td>25</td>\n",
       "      <td>0.25</td>\n",
       "      <td>0.3</td>\n",
       "      <td>0</td>\n",
       "      <td>1</td>\n",
       "      <td>100</td>\n",
       "      <td>Node_4</td>\n",
       "      <td>3</td>\n",
       "    </tr>\n",
       "  </tbody>\n",
       "</table>\n",
       "</div>"
      ],
      "text/plain": [
       "            ENSCost  CO2Cost  UpReserveActivation  DwReserveActivation  \\\n",
       "Parameters    10000       25                 0.25                  0.3   \n",
       "\n",
       "            MinRatioDwUp  MaxRatioDwUp  SBase ReferenceNode  TimeStep  \n",
       "Parameters             0             1    100        Node_4         3  "
      ]
     },
     "execution_count": 3,
     "metadata": {},
     "output_type": "execute_result"
    }
   ],
   "source": [
    "df = pd.read_csv(CaseName+'/oT_Data_Parameter_'+CaseName+'.csv', index_col=[0])\n",
    "df.head()"
   ]
  },
  {
   "cell_type": "markdown",
   "metadata": {
    "pycharm": {
     "name": "#%% md\n"
    }
   },
   "source": [
    "This CSV file comprises all the system parameters of the openTEPES mode. It has a column called TimeStep, that having ``1`` for hourly resolution, ``2`` for bi-hourly resolution, etc. In our example, we consider a TimeStep equal to ``3`` (tri-hourly resolution) and equal to ``4`` (tetra-hourly resolution)."
   ]
  },
  {
   "cell_type": "markdown",
   "metadata": {
    "pycharm": {
     "name": "#%% md\n"
    }
   },
   "source": [
    "### Having tri-hourly resolution"
   ]
  },
  {
   "cell_type": "code",
   "execution_count": 4,
   "metadata": {
    "pycharm": {
     "name": "#%%\n"
    }
   },
   "outputs": [],
   "source": [
    "df['TimeStep'] = 3"
   ]
  },
  {
   "cell_type": "code",
   "execution_count": 5,
   "metadata": {
    "pycharm": {
     "name": "#%%\n"
    }
   },
   "outputs": [],
   "source": [
    "df.to_csv(CaseName+'/oT_Data_Parameter_'+CaseName+'.csv', index=True)"
   ]
  },
  {
   "cell_type": "code",
   "execution_count": 6,
   "metadata": {
    "pycharm": {
     "name": "#%%\n"
    }
   },
   "outputs": [
    {
     "name": "stdout",
     "output_type": "stream",
     "text": [
      "Input data                             ****\n",
      "Reading    input data                  ...  0 s\n"
     ]
    },
    {
     "name": "stderr",
     "output_type": "stream",
     "text": [
      "C:\\Users\\erik_\\miniconda3\\lib\\site-packages\\pyomo\\core\\base\\block.py:541: PerformanceWarning: indexing past lexsort depth may impact performance.\n",
      "  self.add_component(name, val)\n"
     ]
    },
    {
     "name": "stdout",
     "output_type": "stream",
     "text": [
      "Setting up input data                  ...  7 s\n",
      "Setting up variables                   ...  3 s\n",
      "Investment           model formulation ****\n",
      "Generation operation model formulation ****\n",
      "Network    switching model formulation ****\n",
      "Network    operation model formulation ****\n",
      "Writing LP file                        ...  24 s\n",
      "Problem solving                        ****\n",
      "# ==========================================================\n",
      "# = Solver Results                                         =\n",
      "# ==========================================================\n",
      "# ----------------------------------------------------------\n",
      "#   Problem Information\n",
      "# ----------------------------------------------------------\n",
      "Problem: \n",
      "- Name: x570769\n",
      "  Lower bound: 141.10272176111857\n",
      "  Upper bound: 141.10272176111857\n",
      "  Number of objectives: 1\n",
      "  Number of constraints: 285373\n",
      "  Number of variables: 363532\n",
      "  Number of binary variables: 0\n",
      "  Number of integer variables: 0\n",
      "  Number of continuous variables: 363532\n",
      "  Number of nonzeros: 1143639\n",
      "  Sense: minimize\n",
      "# ----------------------------------------------------------\n",
      "#   Solver Information\n",
      "# ----------------------------------------------------------\n",
      "Solver: \n",
      "- Status: ok\n",
      "  Return code: 0\n",
      "  Message: Model was solved to optimality (subject to tolerances), and an optimal solution is available.\n",
      "  Termination condition: optimal\n",
      "  Termination message: Model was solved to optimality (subject to tolerances), and an optimal solution is available.\n",
      "  Wall time: 9.204389572143555\n",
      "  Error rc: 0\n",
      "  Time: 14.098326444625854\n",
      "# ----------------------------------------------------------\n",
      "#   Solution Information\n",
      "# ----------------------------------------------------------\n",
      "Solution: \n",
      "- number of solutions: 0\n",
      "  number of solutions displayed: 0\n",
      "Solution time                          ...  33 s\n",
      "Total system      cost [MEUR]               141.1027217611217\n",
      "Total investment  cost [MEUR]               4.716904917611941\n",
      "Total generation  cost [MEUR]               136.38581684350976\n",
      "Total consumption cost [MEUR]               0.0\n",
      "Total emission    cost [MEUR]               0.0\n",
      "Total reliability cost [MEUR]               0.0\n",
      "Writing           investment results   ...  0 s\n",
      "Writing generation operation results   ...  9 s\n",
      "Writing        ESS operation results   ...  1 s\n",
      "Writing          flexibility results   ...  1 s\n",
      "Writing    network operation results   ...  1 s\n",
      "Writing marginal information results   ...  2 s\n",
      "Writing             economic results   ...  4 s\n",
      "Plotting network maps                  ...  0 s\n",
      "Total time                             ...  111 s\n"
     ]
    }
   ],
   "source": [
    "model_TS3 = openTEPES_run(DirName, CaseName, SolverName, IndLogConsole)"
   ]
  },
  {
   "cell_type": "markdown",
   "metadata": {
    "pycharm": {
     "name": "#%% md\n"
    }
   },
   "source": [
    "### Having tetra-hourly resolution"
   ]
  },
  {
   "cell_type": "code",
   "execution_count": 7,
   "metadata": {
    "pycharm": {
     "name": "#%%\n"
    }
   },
   "outputs": [],
   "source": [
    "df['TimeStep'] = 4"
   ]
  },
  {
   "cell_type": "code",
   "execution_count": 8,
   "metadata": {
    "pycharm": {
     "name": "#%%\n"
    }
   },
   "outputs": [],
   "source": [
    "df.to_csv(CaseName+'/oT_Data_Parameter_'+CaseName+'.csv', index=True)"
   ]
  },
  {
   "cell_type": "code",
   "execution_count": 9,
   "metadata": {
    "pycharm": {
     "name": "#%%\n"
    }
   },
   "outputs": [
    {
     "name": "stdout",
     "output_type": "stream",
     "text": [
      "Input data                             ****\n",
      "Reading    input data                  ...  0 s\n"
     ]
    },
    {
     "name": "stderr",
     "output_type": "stream",
     "text": [
      "C:\\Users\\erik_\\miniconda3\\lib\\site-packages\\pyomo\\core\\base\\block.py:541: PerformanceWarning:\n",
      "\n",
      "indexing past lexsort depth may impact performance.\n",
      "\n"
     ]
    },
    {
     "name": "stdout",
     "output_type": "stream",
     "text": [
      "Setting up input data                  ...  5 s\n",
      "Setting up variables                   ...  2 s\n",
      "Investment           model formulation ****\n",
      "Generation operation model formulation ****\n",
      "Network    switching model formulation ****\n",
      "Network    operation model formulation ****\n",
      "Writing LP file                        ...  15 s\n",
      "Problem solving                        ****\n",
      "# ==========================================================\n",
      "# = Solver Results                                         =\n",
      "# ==========================================================\n",
      "# ----------------------------------------------------------\n",
      "#   Problem Information\n",
      "# ----------------------------------------------------------\n",
      "Problem: \n",
      "- Name: x428081\n",
      "  Lower bound: 142.15017491480492\n",
      "  Upper bound: 142.15017491480492\n",
      "  Number of objectives: 1\n",
      "  Number of constraints: 214031\n",
      "  Number of variables: 272626\n",
      "  Number of binary variables: 0\n",
      "  Number of integer variables: 0\n",
      "  Number of continuous variables: 272626\n",
      "  Number of nonzeros: 853275\n",
      "  Sense: minimize\n",
      "# ----------------------------------------------------------\n",
      "#   Solver Information\n",
      "# ----------------------------------------------------------\n",
      "Solver: \n",
      "- Status: ok\n",
      "  Return code: 0\n",
      "  Message: Model was solved to optimality (subject to tolerances), and an optimal solution is available.\n",
      "  Termination condition: optimal\n",
      "  Termination message: Model was solved to optimality (subject to tolerances), and an optimal solution is available.\n",
      "  Wall time: 6.48866081237793\n",
      "  Error rc: 0\n",
      "  Time: 10.019311666488647\n",
      "# ----------------------------------------------------------\n",
      "#   Solution Information\n",
      "# ----------------------------------------------------------\n",
      "Solution: \n",
      "- number of solutions: 0\n",
      "  number of solutions displayed: 0\n",
      "Solution time                          ...  24 s\n",
      "Total system      cost [MEUR]               142.15017491480427\n",
      "Total investment  cost [MEUR]               4.596940508255597\n",
      "Total generation  cost [MEUR]               137.55323440654868\n",
      "Total consumption cost [MEUR]               0.0\n",
      "Total emission    cost [MEUR]               0.0\n",
      "Total reliability cost [MEUR]               0.0\n",
      "Writing           investment results   ...  0 s\n",
      "Writing generation operation results   ...  6 s\n",
      "Writing        ESS operation results   ...  1 s\n",
      "Writing          flexibility results   ...  1 s\n",
      "Writing    network operation results   ...  1 s\n",
      "Writing marginal information results   ...  1 s\n",
      "Writing             economic results   ...  3 s\n",
      "Plotting network maps                  ...  0 s\n",
      "Total time                             ...  72 s\n"
     ]
    }
   ],
   "source": [
    "model_TS4 = openTEPES_run(DirName, CaseName, SolverName, IndLogConsole)"
   ]
  },
  {
   "cell_type": "markdown",
   "metadata": {
    "pycharm": {
     "name": "#%% md\n"
    }
   },
   "source": [
    "### Getting the total output per technology"
   ]
  },
  {
   "cell_type": "code",
   "execution_count": 10,
   "metadata": {
    "pycharm": {
     "name": "#%%\n"
    }
   },
   "outputs": [],
   "source": [
    "OutputToFile_TS3 = pd.Series(data=[sum(model_TS3.vTotalOutput[sc,p,n,g]() for g in model_TS3.g if (gt,g) in model_TS3.t2g)*model_TS3.pTimeStep() for sc,p,n,gt in model_TS3.sc*model_TS3.p*model_TS3.n*model_TS3.gt], index=pd.MultiIndex.from_tuples(model_TS3.sc*model_TS3.p*model_TS3.n*model_TS3.gt))\n",
    "OutputToFile_TS3 = OutputToFile_TS3.to_frame(name='GW' ).reset_index().pivot_table(index=['level_0','level_1','level_2'], columns='level_3', values='GW').rename_axis(['Scenario','Period','LoadLevel'], axis=0).rename_axis([None], axis=1).sum(axis=0)"
   ]
  },
  {
   "cell_type": "code",
   "execution_count": 11,
   "metadata": {
    "pycharm": {
     "name": "#%%\n"
    }
   },
   "outputs": [],
   "source": [
    "OutputToFile_TS4 = pd.Series(data=[sum(model_TS4.vTotalOutput[sc,p,n,g]() for g in model_TS4.g if (gt,g) in model_TS4.t2g)*model_TS4.pTimeStep() for sc,p,n,gt in model_TS4.sc*model_TS4.p*model_TS4.n*model_TS4.gt], index=pd.MultiIndex.from_tuples(model_TS4.sc*model_TS4.p*model_TS4.n*model_TS4.gt))\n",
    "OutputToFile_TS4 = OutputToFile_TS4.to_frame(name='GW' ).reset_index().pivot_table(index=['level_0','level_1','level_2'], columns='level_3', values='GW').rename_axis(['Scenario','Period','LoadLevel'], axis=0).rename_axis([None], axis=1).sum(axis=0)"
   ]
  },
  {
   "cell_type": "code",
   "execution_count": 12,
   "metadata": {
    "pycharm": {
     "name": "#%%\n"
    }
   },
   "outputs": [],
   "source": [
    "OutputToFile_TS3.index.names = ['Technology']\n",
    "OutputToFile_TS3 = OutputToFile_TS3.to_frame(name='GWh')\n",
    "OutputToFile_TS3['Resolution'] = 'TimeStep-3'\n",
    "OutputToFile_TS3 = OutputToFile_TS3.reset_index()\n",
    "OutputToFile_TS4.index.names = ['Technology']\n",
    "OutputToFile_TS4 = OutputToFile_TS4.to_frame(name='GWh')\n",
    "OutputToFile_TS4['Resolution'] = 'TimeStep-4'\n",
    "OutputToFile_TS4 = OutputToFile_TS4.reset_index()"
   ]
  },
  {
   "cell_type": "code",
   "execution_count": 13,
   "metadata": {
    "pycharm": {
     "name": "#%%\n"
    }
   },
   "outputs": [],
   "source": [
    "OutputResults = pd.concat([OutputToFile_TS3, OutputToFile_TS4], axis=0)\n",
    "OutputResults['GWh'] = round(OutputResults['GWh'], 2)"
   ]
  },
  {
   "cell_type": "code",
   "execution_count": 14,
   "metadata": {
    "pycharm": {
     "name": "#%%\n"
    }
   },
   "outputs": [],
   "source": [
    "chart = alt.Chart(OutputResults).mark_bar().encode(x='Resolution:O', y='GWh:Q', color='Resolution:O', column='Technology:N')\n",
    "# chart.save(CaseName+'/oT_Plot_TechnologyOutputComparison_'+CaseName+'.html', embed_options={'renderer':'svg'})"
   ]
  },
  {
   "cell_type": "code",
   "execution_count": 15,
   "metadata": {
    "pycharm": {
     "name": "#%%\n"
    }
   },
   "outputs": [
    {
     "data": {
      "text/html": [
       "\n",
       "<div id=\"altair-viz-e9323b5d7fcb49bbaee557a7a0ff4c1e\"></div>\n",
       "<script type=\"text/javascript\">\n",
       "  var VEGA_DEBUG = (typeof VEGA_DEBUG == \"undefined\") ? {} : VEGA_DEBUG;\n",
       "  (function(spec, embedOpt){\n",
       "    let outputDiv = document.currentScript.previousElementSibling;\n",
       "    if (outputDiv.id !== \"altair-viz-e9323b5d7fcb49bbaee557a7a0ff4c1e\") {\n",
       "      outputDiv = document.getElementById(\"altair-viz-e9323b5d7fcb49bbaee557a7a0ff4c1e\");\n",
       "    }\n",
       "    const paths = {\n",
       "      \"vega\": \"https://cdn.jsdelivr.net/npm//vega@5?noext\",\n",
       "      \"vega-lib\": \"https://cdn.jsdelivr.net/npm//vega-lib?noext\",\n",
       "      \"vega-lite\": \"https://cdn.jsdelivr.net/npm//vega-lite@4.17.0?noext\",\n",
       "      \"vega-embed\": \"https://cdn.jsdelivr.net/npm//vega-embed@6?noext\",\n",
       "    };\n",
       "\n",
       "    function maybeLoadScript(lib, version) {\n",
       "      var key = `${lib.replace(\"-\", \"\")}_version`;\n",
       "      return (VEGA_DEBUG[key] == version) ?\n",
       "        Promise.resolve(paths[lib]) :\n",
       "        new Promise(function(resolve, reject) {\n",
       "          var s = document.createElement('script');\n",
       "          document.getElementsByTagName(\"head\")[0].appendChild(s);\n",
       "          s.async = true;\n",
       "          s.onload = () => {\n",
       "            VEGA_DEBUG[key] = version;\n",
       "            return resolve(paths[lib]);\n",
       "          };\n",
       "          s.onerror = () => reject(`Error loading script: ${paths[lib]}`);\n",
       "          s.src = paths[lib];\n",
       "        });\n",
       "    }\n",
       "\n",
       "    function showError(err) {\n",
       "      outputDiv.innerHTML = `<div class=\"error\" style=\"color:red;\">${err}</div>`;\n",
       "      throw err;\n",
       "    }\n",
       "\n",
       "    function displayChart(vegaEmbed) {\n",
       "      vegaEmbed(outputDiv, spec, embedOpt)\n",
       "        .catch(err => showError(`Javascript Error: ${err.message}<br>This usually means there's a typo in your chart specification. See the javascript console for the full traceback.`));\n",
       "    }\n",
       "\n",
       "    if(typeof define === \"function\" && define.amd) {\n",
       "      requirejs.config({paths});\n",
       "      require([\"vega-embed\"], displayChart, err => showError(`Error loading script: ${err.message}`));\n",
       "    } else {\n",
       "      maybeLoadScript(\"vega\", \"5\")\n",
       "        .then(() => maybeLoadScript(\"vega-lite\", \"4.17.0\"))\n",
       "        .then(() => maybeLoadScript(\"vega-embed\", \"6\"))\n",
       "        .catch(showError)\n",
       "        .then(() => displayChart(vegaEmbed));\n",
       "    }\n",
       "  })({\"config\": {\"view\": {\"continuousWidth\": 400, \"continuousHeight\": 300}}, \"data\": {\"name\": \"data-a88f5f1846e5c84cacd40892f8c54331\"}, \"mark\": \"bar\", \"encoding\": {\"color\": {\"field\": \"Resolution\", \"type\": \"ordinal\"}, \"column\": {\"field\": \"Technology\", \"type\": \"nominal\"}, \"x\": {\"field\": \"Resolution\", \"type\": \"ordinal\"}, \"y\": {\"field\": \"GWh\", \"type\": \"quantitative\"}}, \"$schema\": \"https://vega.github.io/schema/vega-lite/v4.17.0.json\", \"datasets\": {\"data-a88f5f1846e5c84cacd40892f8c54331\": [{\"Technology\": \"Coal\", \"GWh\": 0.0, \"Resolution\": \"TimeStep-3\"}, {\"Technology\": \"ESS\", \"GWh\": 368.71, \"Resolution\": \"TimeStep-3\"}, {\"Technology\": \"Gas\", \"GWh\": 783.14, \"Resolution\": \"TimeStep-3\"}, {\"Technology\": \"Nuclear\", \"GWh\": 6710.25, \"Resolution\": \"TimeStep-3\"}, {\"Technology\": \"Oil\", \"GWh\": 0.0, \"Resolution\": \"TimeStep-3\"}, {\"Technology\": \"RES\", \"GWh\": 1585.32, \"Resolution\": \"TimeStep-3\"}, {\"Technology\": \"Coal\", \"GWh\": 0.0, \"Resolution\": \"TimeStep-4\"}, {\"Technology\": \"ESS\", \"GWh\": 365.38, \"Resolution\": \"TimeStep-4\"}, {\"Technology\": \"Gas\", \"GWh\": 806.59, \"Resolution\": \"TimeStep-4\"}, {\"Technology\": \"Nuclear\", \"GWh\": 6719.76, \"Resolution\": \"TimeStep-4\"}, {\"Technology\": \"Oil\", \"GWh\": 0.0, \"Resolution\": \"TimeStep-4\"}, {\"Technology\": \"RES\", \"GWh\": 1551.98, \"Resolution\": \"TimeStep-4\"}]}}, {\"mode\": \"vega-lite\"});\n",
       "</script>"
      ],
      "text/plain": [
       "alt.Chart(...)"
      ]
     },
     "execution_count": 15,
     "metadata": {},
     "output_type": "execute_result"
    }
   ],
   "source": [
    "chart"
   ]
  },
  {
   "cell_type": "code",
   "execution_count": null,
   "metadata": {
    "pycharm": {
     "name": "#%%\n"
    }
   },
   "outputs": [],
   "source": []
  }
 ],
 "metadata": {
  "kernelspec": {
   "display_name": "Python 3 (ipykernel)",
   "language": "python",
   "name": "python3"
  },
  "language_info": {
   "codemirror_mode": {
    "name": "ipython",
    "version": 3
   },
   "file_extension": ".py",
   "mimetype": "text/x-python",
   "name": "python",
   "nbconvert_exporter": "python",
   "pygments_lexer": "ipython3",
   "version": "3.9.5"
  }
 },
 "nbformat": 4,
 "nbformat_minor": 1
}
