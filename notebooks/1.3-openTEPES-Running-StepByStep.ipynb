{
 "cells": [
  {
   "cell_type": "markdown",
   "metadata": {
    "pycharm": {
     "name": "#%% md\n"
    }
   },
   "source": [
    "## 3. Running Step by Step\n",
    "\n",
    "In this running step by step, we will show how the ``openTEPES_run`` function works."
   ]
  },
  {
   "cell_type": "markdown",
   "metadata": {},
   "source": [
    "#### Path and case study\n",
    "In this tutorial the main scripts of the model are located in DIR and the case study will be the ``9n`` that is located in the folder with the same name.\n",
    "In addition, we also declare the ``SolverName`` and ``IndLogConsole``."
   ]
  },
  {
   "cell_type": "code",
   "execution_count": null,
   "metadata": {
    "pycharm": {
     "name": "#%%\n"
    }
   },
   "outputs": [],
   "source": [
    "import os\n",
    "os._exit(00)\n",
    "\n",
    "DirName = '/srv/conda/envs/notebook/lib/python3.8/site-packages/openTEPES'\n",
    "CaseName = '9n'\n",
    "SolverName = 'cbc'\n",
    "IndLogConsole = 'No'"
   ]
  },
  {
   "cell_type": "markdown",
   "metadata": {},
   "source": [
    "#### Libraries\n",
    "We start by importing the relevant libraries."
   ]
  },
  {
   "cell_type": "code",
   "execution_count": null,
   "metadata": {
    "pycharm": {
     "name": "#%%\n"
    }
   },
   "outputs": [],
   "source": [
    "import time\n",
    "import os\n",
    "\n",
    "from pyomo.environ import ConcreteModel, Set\n",
    "from openTEPES import openTEPES as oT"
   ]
  },
  {
   "cell_type": "markdown",
   "metadata": {},
   "source": [
    "#### Data transforming\n",
    "We start by importing the relevant libraries."
   ]
  },
  {
   "cell_type": "code",
   "execution_count": null,
   "metadata": {
    "pycharm": {
     "name": "#%%\n"
    }
   },
   "outputs": [],
   "source": [
    "InitialTime = time.time()\n",
    "\n",
    "idxDict = dict()\n",
    "idxDict[0    ] = 0\n",
    "idxDict[0.0  ] = 0\n",
    "idxDict['No' ] = 0\n",
    "idxDict['NO' ] = 0\n",
    "idxDict['no' ] = 0\n",
    "idxDict['N'  ] = 0\n",
    "idxDict['n'  ] = 0\n",
    "idxDict['Yes'] = 1\n",
    "idxDict['YES'] = 1\n",
    "idxDict['yes'] = 1\n",
    "idxDict['Y'  ] = 1\n",
    "idxDict['y'  ] = 1\n",
    "\n",
    "pIndLogConsole = [j for i, j in idxDict.items() if i == IndLogConsole]"
   ]
  },
  {
   "cell_type": "markdown",
   "metadata": {},
   "source": [
    "#### Model object definition\n",
    "We use the ``ConcreteModel`` function from pyomo to define our model, as follows:"
   ]
  },
  {
   "cell_type": "code",
   "execution_count": null,
   "metadata": {
    "pycharm": {
     "name": "#%%\n"
    }
   },
   "outputs": [],
   "source": [
    "mTEPES = ConcreteModel('openTEPES')"
   ]
  },
  {
   "cell_type": "markdown",
   "metadata": {},
   "source": [
    "#### Define sets and parameters"
   ]
  },
  {
   "cell_type": "code",
   "execution_count": null,
   "metadata": {
    "pycharm": {
     "name": "#%%\n"
    }
   },
   "outputs": [],
   "source": [
    "oT.InputData(DirName, CaseName, mTEPES, pIndLogConsole)"
   ]
  },
  {
   "cell_type": "markdown",
   "metadata": {},
   "source": [
    "#### Define variables"
   ]
  },
  {
   "cell_type": "code",
   "execution_count": null,
   "metadata": {
    "pycharm": {
     "name": "#%%\n"
    }
   },
   "outputs": [],
   "source": [
    "oT.SettingUpVariables(mTEPES, mTEPES)"
   ]
  },
  {
   "cell_type": "markdown",
   "metadata": {},
   "source": [
    "#### Investment model objective function"
   ]
  },
  {
   "cell_type": "code",
   "execution_count": null,
   "metadata": {
    "pycharm": {
     "name": "#%%\n"
    }
   },
   "outputs": [],
   "source": [
    "oT.InvestmentModelFormulation(mTEPES, mTEPES, pIndLogConsole)"
   ]
  },
  {
   "cell_type": "markdown",
   "metadata": {},
   "source": [
    "#### Iterative model formulation for each stage of a year\n",
    "This part has two main sections: the first one active only scenario, period, and load levels to be used, and the second one, define the operation model objective function and constraints by stage."
   ]
  },
  {
   "cell_type": "code",
   "execution_count": null,
   "metadata": {
    "pycharm": {
     "name": "#%%\n"
    }
   },
   "outputs": [],
   "source": [
    "for sc,p,st in mTEPES.scc*mTEPES.pp*mTEPES.stt:\n",
    "    # only scenario, period and load levels to formulate\n",
    "    mTEPES.del_component(mTEPES.sc)\n",
    "    mTEPES.del_component(mTEPES.p )\n",
    "    mTEPES.del_component(mTEPES.st)\n",
    "    mTEPES.del_component(mTEPES.n )\n",
    "    mTEPES.del_component(mTEPES.n2)\n",
    "    mTEPES.sc = Set(initialize=mTEPES.scc, ordered=True, doc='scenarios',   filter=lambda mTEPES,scc: scc in mTEPES.scc and sc == scc and mTEPES.pScenProb   [scc])\n",
    "    mTEPES.p  = Set(initialize=mTEPES.pp,  ordered=True, doc='periods',     filter=lambda mTEPES,pp : pp  in                p  == pp                              )\n",
    "    mTEPES.st = Set(initialize=mTEPES.stt, ordered=True, doc='stages',      filter=lambda mTEPES,stt: stt in mTEPES.stt and st == stt and mTEPES.pStageWeight[stt] and sum(1 for (st, nn) in mTEPES.s2n))\n",
    "    mTEPES.n  = Set(initialize=mTEPES.nn,  ordered=True, doc='load levels', filter=lambda mTEPES,nn : nn  in mTEPES.pDuration and (st,nn) in mTEPES.s2n)\n",
    "    mTEPES.n2 = Set(initialize=mTEPES.nn,  ordered=True, doc='load levels', filter=lambda mTEPES,nn : nn  in mTEPES.pDuration and (st,nn) in mTEPES.s2n)\n",
    "\n",
    "    # operation model objective function and constraints by stage\n",
    "    oT.GenerationOperationModelFormulation(mTEPES, mTEPES, pIndLogConsole, st)\n",
    "    oT.NetworkSwitchingModelFormulation   (mTEPES, mTEPES, pIndLogConsole, st)\n",
    "    oT.NetworkOperationModelFormulation   (mTEPES, mTEPES, pIndLogConsole, st)"
   ]
  },
  {
   "cell_type": "markdown",
   "metadata": {},
   "source": [
    "#### Create lp-format file\n",
    "We save the LP-format file in the folder called ``9n``. "
   ]
  },
  {
   "cell_type": "code",
   "execution_count": null,
   "metadata": {
    "pycharm": {
     "name": "#%%\n"
    }
   },
   "outputs": [],
   "source": [
    "StartTime         = time.time()\n",
    "mTEPES.write(CaseName+'/openTEPES_'+CaseName+'.lp', io_options={'symbolic_solver_labels': True})\n",
    "WritingLPFileTime = time.time() - StartTime\n",
    "StartTime         = time.time()\n",
    "print('Writing LP file                        ... ', round(WritingLPFileTime), 's')"
   ]
  },
  {
   "cell_type": "markdown",
   "source": [
    "#### Solving the mTEPES problem"
   ],
   "metadata": {
    "collapsed": false
   }
  },
  {
   "cell_type": "code",
   "execution_count": null,
   "outputs": [],
   "source": [
    "oT.ProblemSolving(DirName, CaseName, SolverName, mTEPES, mTEPES, pIndLogConsole)"
   ],
   "metadata": {
    "collapsed": false,
    "pycharm": {
     "name": "#%%\n"
    }
   }
  },
  {
   "cell_type": "markdown",
   "metadata": {},
   "source": [
    "#### Activating all possible scenario, period, and load levels"
   ]
  },
  {
   "cell_type": "code",
   "execution_count": null,
   "metadata": {
    "pycharm": {
     "name": "#%%\n"
    }
   },
   "outputs": [],
   "source": [
    "mTEPES.del_component(mTEPES.sc)\n",
    "mTEPES.del_component(mTEPES.p )\n",
    "mTEPES.del_component(mTEPES.st)\n",
    "mTEPES.del_component(mTEPES.n )\n",
    "mTEPES.sc = Set(initialize=mTEPES.scc, ordered=True, doc='scenarios',   filter=lambda mTEPES,scc: scc in mTEPES.scc and mTEPES.pScenProb   [scc])\n",
    "mTEPES.p  = Set(initialize=mTEPES.pp,  ordered=True, doc='periods',     filter=lambda mTEPES,pp : pp  in p  == pp                               )\n",
    "mTEPES.st = Set(initialize=mTEPES.stt, ordered=True, doc='stages',      filter=lambda mTEPES,stt: stt in mTEPES.stt and mTEPES.pStageWeight[stt] and sum(1 for (stt, nn) in mTEPES.s2n))\n",
    "mTEPES.n  = Set(initialize=mTEPES.nn,  ordered=True, doc='load levels', filter=lambda mTEPES,nn : nn  in                mTEPES.pDuration        )\n"
   ]
  },
  {
   "cell_type": "markdown",
   "metadata": {},
   "source": [
    "#### Writing and plotting results"
   ]
  },
  {
   "cell_type": "code",
   "execution_count": null,
   "metadata": {
    "pycharm": {
     "name": "#%%\n"
    }
   },
   "outputs": [],
   "source": [
    "oT.InvestmentResults         (DirName, CaseName, mTEPES, mTEPES)\n",
    "oT.GenerationOperationResults(DirName, CaseName, mTEPES, mTEPES)\n",
    "oT.ESSOperationResults       (DirName, CaseName, mTEPES, mTEPES)\n",
    "oT.FlexibilityResults        (DirName, CaseName, mTEPES, mTEPES)\n",
    "oT.NetworkOperationResults   (DirName, CaseName, mTEPES, mTEPES)\n",
    "oT.MarginalResults           (DirName, CaseName, mTEPES, mTEPES)\n",
    "oT.EconomicResults           (DirName, CaseName, mTEPES, mTEPES)\n",
    "oT.NetworkMapResults         (DirName, CaseName, mTEPES, mTEPES)\n",
    "\n",
    "TotalTime = time.time() - InitialTime\n",
    "print('Total time                             ... ', round(TotalTime), 's')"
   ]
  }
 ],
 "metadata": {
  "kernelspec": {
   "display_name": "Python 3 (ipykernel)",
   "language": "python",
   "name": "python3"
  },
  "language_info": {
   "codemirror_mode": {
    "name": "ipython",
    "version": 3
   },
   "file_extension": ".py",
   "mimetype": "text/x-python",
   "name": "python",
   "nbconvert_exporter": "python",
   "pygments_lexer": "ipython3",
   "version": "3.9.5"
  }
 },
 "nbformat": 4,
 "nbformat_minor": 1
}