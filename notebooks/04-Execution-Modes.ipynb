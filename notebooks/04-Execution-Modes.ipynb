{
 "cells": [
  {
   "cell_type": "markdown",
   "source": [
    "# Execution Modes\n",
    "As the openTEPES model was modeled based on blocks, the model can perform the following problems that are controlled by defining or not defining parameters in the CSV files."
   ],
   "metadata": {
    "collapsed": false,
    "pycharm": {
     "name": "#%% md\n"
    }
   }
  },
  {
   "cell_type": "markdown",
   "source": [
    "## 1. Economic Dispatch with Storage Management\n",
    "The following notebook presents an example about performing the economic dispatch using the openTEPES model.\n",
    "- [4.1-Economic-Dispatch.ipynb](4.1-Economic-Dispatch.ipynb)"
   ],
   "metadata": {
    "collapsed": false,
    "pycharm": {
     "name": "#%% md\n"
    }
   }
  },
  {
   "cell_type": "markdown",
   "source": [
    "## 2. Unit Commitment\n",
    "The following notebook presents an example about performing the unit commitment problem with binary variables using the openTEPES model.\n",
    "- [4.2-Unit-Commitment.ipynb](4.2-Unit-Commitment.ipynb)"
   ],
   "metadata": {
    "collapsed": false,
    "pycharm": {
     "name": "#%% md\n"
    }
   }
  },
  {
   "cell_type": "markdown",
   "source": [
    "## 3. Transmission Expansion Planning\n",
    "This section presents a notebook that comprises an example about solving a transmission expansion planning problem.\n",
    "- [4.3-Transmission-Expansion-Planning.ipynb](4.3-Transmission-Expansion-Planning.ipynb)"
   ],
   "metadata": {
    "collapsed": false,
    "pycharm": {
     "name": "#%% md\n"
    }
   }
  },
  {
   "cell_type": "markdown",
   "source": [
    "## 4. Generation Expansion Planning\n",
    "This section presents a notebook that comprises an example about solving a generation expansion planning problem.\n",
    "- [4.4-Generation-Expansion-Planning.ipynb](4.4-Generation-Expansion-Planning.ipynb)"
   ],
   "metadata": {
    "collapsed": false,
    "pycharm": {
     "name": "#%% md\n"
    }
   }
  },
  {
   "cell_type": "markdown",
   "source": [
    "## 5. Optimal Transmission Switching\n",
    "This section presents a notebook that comprises an example about solving an optimal transmission switching problem.\n",
    "- [4.5-Optimal-Transmission-Switching.ipynb](4.5-Optimal-Transmission-Switching.ipynb)\n"
   ],
   "metadata": {
    "collapsed": false,
    "pycharm": {
     "name": "#%% md\n"
    }
   }
  }
 ],
 "metadata": {
  "kernelspec": {
   "display_name": "Python 3",
   "language": "python",
   "name": "python3"
  },
  "language_info": {
   "codemirror_mode": {
    "name": "ipython",
    "version": 2
   },
   "file_extension": ".py",
   "mimetype": "text/x-python",
   "name": "python",
   "nbconvert_exporter": "python",
   "pygments_lexer": "ipython2",
   "version": "2.7.6"
  }
 },
 "nbformat": 4,
 "nbformat_minor": 0
}