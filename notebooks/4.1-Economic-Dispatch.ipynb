{
 "cells": [
  {
   "cell_type": "markdown",
   "metadata": {
    "collapsed": false,
    "pycharm": {
     "name": "#%% md\n"
    }
   },
   "source": [
    "## 1. Economic Dispatch with Storage Management\n",
    "\n",
    "To perform it, we need to fill the CSV files related to the demand, variable generation and transmission network as we made in the following files in the folder called ``9n_ByStages_ED``:\n",
    "- ``oT_Data_Demand_9n_ByStages_ED.csv``\n",
    "- ``oT_Data_Network_9n_ByStages_ED.csv``\n",
    "- ``oT_Data_VariableMaxGeneration_9n_ByStages_ED.csv``\n",
    "\n",
    "As it is shown in the folder ``9n_ByStages_ED``.\n",
    "Likewise, in the CSV file ``oT_Data_Generation_9n_ByStages_ED.csv``, we only need to fill the columns:\n",
    "- Node                  : Always define it to locate the unit to a node\n",
    "- Technology            : Always define it to assign the technology to the unit\n",
    "- **StorageType**       : Only define if the unit has storage\n",
    "- **OutflowsType**      : Only define if the unit has outflows\n",
    "- MaximumPower          : Always define it to assign the maximum output of the unit\n",
    "- MinimumPower          : It could be zero if the unit does not have a technical minimum\n",
    "- **MaximumCharge**     : Only define if the unit has storage\n",
    "- **MinimumCharge**     : Only define if the unit has storage\n",
    "- **InitialStorage**    : Only define if the unit has storage\n",
    "- **MaximumStorage**    : Only define if the unit has storage\n",
    "- **MinimumStorage**    : Only define if the unit has storage\n",
    "- **Efficiency**        : Only define if the unit has storage\n",
    "- FuelCost              : Define it if the unit has a production cost\n",
    "- LinearTerm            : Define it if the unit has a production cost\n",
    "- ConstantTerm          : Define it if the unit has a production cost\n",
    "- OMVariableCost        : Define it if the unit has a production cost\n",
    "- CO2EmissionRate       : Define it if is needed to consider a CO2 emission cost\n",
    "- Availability          : Define it if is needed to consider the availability coefficient.\n",
    "\n",
    "Note that if we want to perform the economic dispatch without considering storage management, we only leave blank the columns:\n",
    "\n",
    "- **StorageType**       : Only define if the unit has storage\n",
    "- **OutflowsType**      : Only define if the unit has outflows\n",
    "- **MaximumCharge**     : Only define if the unit has storage\n",
    "- **MinimumCharge**     : Only define if the unit has storage\n",
    "- **InitialStorage**    : Only define if the unit has storage\n",
    "- **MaximumStorage**    : Only define if the unit has storage\n",
    "- **MinimumStorage**    : Only define if the unit has storage\n",
    "- **Efficiency**        : Only define if the unit has storage"
   ]
  },
  {
   "cell_type": "markdown",
   "metadata": {
    "collapsed": false,
    "pycharm": {
     "name": "#%% md\n"
    }
   },
   "source": [
    "#### Defining, CaseName, SolverName and IndLogConsole"
   ]
  },
  {
   "cell_type": "code",
   "execution_count": null,
   "metadata": {
    "collapsed": false,
    "pycharm": {
     "name": "#%%\n"
    }
   },
   "outputs": [],
   "source": [
    "DirName = ''\n",
    "CaseName = '9n_ByStages_ED'\n",
    "SolverName = 'appsi_highs'\n",
    "IndLogConsole = 'No'"
   ]
  },
  {
   "cell_type": "markdown",
   "metadata": {
    "collapsed": false,
    "pycharm": {
     "name": "#%% md\n"
    }
   },
   "source": [
    "#### Libraries"
   ]
  },
  {
   "cell_type": "code",
   "execution_count": null,
   "metadata": {
    "collapsed": false,
    "pycharm": {
     "name": "#%%\n"
    }
   },
   "outputs": [],
   "source": [
    "import pandas as pd\n",
    "from openTEPES.openTEPES import openTEPES_run"
   ]
  },
  {
   "cell_type": "markdown",
   "metadata": {
    "collapsed": false,
    "pycharm": {
     "name": "#%% md\n"
    }
   },
   "source": [
    "Then, the CSV file ``oT_Data_Generation_9n_ByStages_ED.csv`` would be like this:"
   ]
  },
  {
   "cell_type": "code",
   "execution_count": null,
   "metadata": {
    "collapsed": false,
    "pycharm": {
     "name": "#%%\n"
    }
   },
   "outputs": [],
   "source": [
    "df = pd.read_csv(CaseName+'/oT_Data_Generation_'+CaseName+'.csv', index_col=[0])\n",
    "df.fillna(0  , inplace=True)\n",
    "df.head()"
   ]
  },
  {
   "cell_type": "markdown",
   "metadata": {
    "collapsed": false,
    "pycharm": {
     "name": "#%% md\n"
    }
   },
   "source": [
    "### Having hourly resolution"
   ]
  },
  {
   "cell_type": "code",
   "execution_count": null,
   "metadata": {
    "collapsed": false,
    "pycharm": {
     "name": "#%%\n"
    }
   },
   "outputs": [],
   "source": [
    "df = pd.read_csv(CaseName+'/oT_Data_Parameter_'+CaseName+'.csv', index_col=[0])\n",
    "df.head()"
   ]
  },
  {
   "cell_type": "code",
   "execution_count": null,
   "metadata": {
    "collapsed": false,
    "pycharm": {
     "name": "#%%\n"
    }
   },
   "outputs": [],
   "source": [
    "df['TimeStep'] = 1"
   ]
  },
  {
   "cell_type": "code",
   "execution_count": null,
   "metadata": {
    "collapsed": false,
    "pycharm": {
     "name": "#%%\n"
    }
   },
   "outputs": [],
   "source": [
    "df.to_csv(CaseName+'/oT_Data_Parameter_'+CaseName+'.csv', index=True)"
   ]
  },
  {
   "cell_type": "markdown",
   "metadata": {
    "collapsed": false,
    "pycharm": {
     "name": "#%% md\n"
    }
   },
   "source": [
    "### Executing the model"
   ]
  },
  {
   "cell_type": "code",
   "execution_count": null,
   "metadata": {
    "collapsed": false,
    "pycharm": {
     "name": "#%%\n"
    }
   },
   "outputs": [],
   "source": [
    "model = openTEPES_run(DirName, CaseName, SolverName, IndLogConsole)"
   ]
  },
  {
   "cell_type": "markdown",
   "metadata": {
    "collapsed": false,
    "pycharm": {
     "name": "#%% md\n"
    }
   },
   "source": [
    "### Reading the plot TechnologyOutput"
   ]
  },
  {
   "cell_type": "code",
   "execution_count": null,
   "metadata": {
    "collapsed": false,
    "pycharm": {
     "name": "#%%\n"
    }
   },
   "outputs": [],
   "source": [
    "from IPython.display import IFrame\n",
    "IFrame(src=CaseName+'/oT_Plot_TechnologyEnergy_2030_sc01__'+CaseName+'.html', width=1000, height=1000)"
   ]
  }
 ],
 "metadata": {
  "kernelspec": {
   "display_name": "Python 3 (ipykernel)",
   "language": "python",
   "name": "python3"
  },
  "language_info": {
   "codemirror_mode": {
    "name": "ipython",
    "version": 3
   },
   "file_extension": ".py",
   "mimetype": "text/x-python",
   "name": "python",
   "nbconvert_exporter": "python",
   "pygments_lexer": "ipython3",
   "version": "3.9.5"
  }
 },
 "nbformat": 4,
 "nbformat_minor": 1
}
