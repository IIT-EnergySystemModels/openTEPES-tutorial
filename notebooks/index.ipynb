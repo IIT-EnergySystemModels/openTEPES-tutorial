{
 "cells": [
  {
   "cell_type": "markdown",
   "source": [
    "# Outline\n",
    "\n",
    "These notebooks contain an exploratory execution of the [openTEPES](https://github.com/IIT-EnergySystemModels/openTEPES) model.\n",
    "\n",
    "Materials can be found online at https://github.com/IIT-EnergySystemModels/openTEPES-tutorial\n",
    "\n",
    "For the installation of the openTEPES model and its dependencies, please follow the section **installation** of the [README](https://github.com/IIT-EnergySystemModels/openTEPES#readme)."
   ],
   "metadata": {
    "collapsed": false
   }
  },
  {
   "cell_type": "markdown",
   "source": [
    "## 1. Initial Execution: Live Demo\n",
    "\n",
    "We start with a live demo of what it looks like to the exploratory execution.\n",
    "\n",
    "Here's the content of the live demo:\n",
    "\n",
    "- [01-openTEPES-Demo.ipynb](01-openTEPES-Demo.ipynb)"
   ],
   "metadata": {
    "collapsed": false,
    "pycharm": {
     "name": "#%% md\n"
    }
   }
  },
  {
   "cell_type": "markdown",
   "source": [
    "## 2. Time-Step: hourly, bi-hourly, tri-hourly, etc.\n",
    "\n",
    "This notebook shows how to use the pTimeStep parameter.\n",
    "\n",
    "- [02-Time-Step.ipynb](02-Time-Step.ipynb)"
   ],
   "metadata": {
    "collapsed": false
   }
  },
  {
   "cell_type": "markdown",
   "source": [
    "## 3. Stages: representative hours, days, weeks, etc.\n",
    "\n",
    "This notebook shows how to use the stages within the openTEPES model.\n",
    "\n",
    "- [03-Stages.ipynb](03-Stages.ipynb)"
   ],
   "metadata": {
    "collapsed": false
   }
  },
  {
   "cell_type": "markdown",
   "source": [
    "## 4. Execution Modes\n",
    "\n",
    "We start with a live demo of what it looks like to the exploratory execution.\n",
    "\n",
    "Here's the content of the live demo:\n",
    "\n",
    "- [04-Execution-Modes.ipynb](04-Execution-Modes.ipynb)"
   ],
   "metadata": {
    "collapsed": false,
    "pycharm": {
     "name": "#%% md\n"
    }
   }
  }
 ],
 "metadata": {
  "kernelspec": {
   "display_name": "Python 3",
   "language": "python",
   "name": "python3"
  },
  "language_info": {
   "codemirror_mode": {
    "name": "ipython",
    "version": 2
   },
   "file_extension": ".py",
   "mimetype": "text/x-python",
   "name": "python",
   "nbconvert_exporter": "python",
   "pygments_lexer": "ipython2",
   "version": "2.7.6"
  }
 },
 "nbformat": 4,
 "nbformat_minor": 0
}