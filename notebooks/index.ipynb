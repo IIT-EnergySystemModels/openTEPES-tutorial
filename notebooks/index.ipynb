{
 "cells": [
  {
   "cell_type": "markdown",
   "source": [
    "# Outline\n",
    "\n",
    "These notebooks contain an introduction to openTEPES' exploratory execution [openTEPES](https://github.com/IIT-EnergySystemModels/openTEPES).\n",
    "\n",
    "Materials can be found online at https://github.com/IIT-EnergySystemModels/openTEPES-tutorial\n",
    "\n",
    "![openTEPES gallery](notebooks/openTEPES-gallery.png)\n",
    "\n",
    "\n",
    "Welcome! Here you will find the source material for the openTEPES tutorial, given at Seminario.\n"
   ],
   "metadata": {
    "collapsed": false
   }
  },
  {
   "cell_type": "code",
   "execution_count": null,
   "outputs": [],
   "source": [
    "from openTEPES.openTEPES import openTEPES_run"
   ],
   "metadata": {
    "collapsed": false,
    "pycharm": {
     "name": "#%%\n"
    }
   }
  },
  {
   "cell_type": "markdown",
   "source": [
    "Now we'll use the [vega_datasets package](https://github.com/altair-viz/vega_datasets), to load an example dataset:"
   ],
   "metadata": {
    "collapsed": false
   }
  },
  {
   "cell_type": "code",
   "execution_count": null,
   "outputs": [],
   "source": [
    "openTEPES_run('9n', '//notebooks', 'gurobi')"
   ],
   "metadata": {
    "collapsed": false,
    "pycharm": {
     "name": "#%%\n"
    }
   }
  }
 ],
 "metadata": {
  "kernelspec": {
   "display_name": "Python 3",
   "language": "python",
   "name": "python3"
  },
  "language_info": {
   "codemirror_mode": {
    "name": "ipython",
    "version": 2
   },
   "file_extension": ".py",
   "mimetype": "text/x-python",
   "name": "python",
   "nbconvert_exporter": "python",
   "pygments_lexer": "ipython2",
   "version": "2.7.6"
  }
 },
 "nbformat": 4,
 "nbformat_minor": 0
}