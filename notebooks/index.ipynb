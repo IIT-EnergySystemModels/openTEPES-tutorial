{
 "cells": [],
 "metadata": {
  "kernelspec": {
   "display_name": "Python 3",
   "language": "python",
   "name": "python3"
  },
  "language_info": {
   "codemirror_mode": {
    "name": "ipython",
    "version": 2
   },
   "file_extension": ".py",
   "mimetype": "text/x-python",
   "name": "python",
   "nbconvert_exporter": "python",
   "pygments_lexer": "ipython2",
   "version": "2.7.6"
  },
  "pycharm": {
   "stem_cell": {
    "cell_type": "raw",
    "source": [
     "# openTEPES' Exploratory Execution\n",
     "\n",
     "![openTEPES gallery](notebooks/openTEPES-gallery.png)\n",
     "\n",
     "\n",
     "Welcome! Here you will find the source material for the openTEPES tutorial, given at Seminario.\n",
     "\n"
    ],
    "metadata": {
     "collapsed": false
    }
   }
  }
 },
 "nbformat": 4,
 "nbformat_minor": 0
}