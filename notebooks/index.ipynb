{
 "cells": [
  {
   "cell_type": "markdown",
   "source": [
    "# Outline\n",
    "\n",
    "These notebooks contain an introduction to openTEPES' exploratory execution [openTEPES](https://github.com/IIT-EnergySystemModels/openTEPES).\n",
    "\n",
    "Materials can be found online at https://github.com/IIT-EnergySystemModels/openTEPES-tutorial\n",
    "\n",
    "\n",
    "<!-- ![openTEPES gallery](openTEPES-gallery.png) -->\n",
    "<img src=\"openTEPES-gallery.png\" alt=\"openTEPES-gallery\" style=\"width: 1000px;\"/>\n",
    "\n",
    "\n",
    "Welcome! Here you will find the source material for the openTEPES tutorial, given at Seminario."
   ],
   "metadata": {
    "collapsed": false
   }
  },
  {
   "cell_type": "markdown",
   "source": [
    "To run models using Gurobipy, you need to run the next command in the terminal: 'conda install -c gurobi gurobi'."
   ],
   "metadata": {
    "collapsed": false
   }
  },
  {
   "cell_type": "code",
   "execution_count": null,
   "outputs": [],
   "source": [
    "WLSACCESSID='61df0040-2ce8-4681-89d0-c415d8a6d3a3'\n",
    "WLSSECRET='42bb8fcf-a74c-419f-beab-8f5c964e592d'\n",
    "LICENSEID='753197'"
   ],
   "metadata": {
    "collapsed": false,
    "pycharm": {
     "name": "#%%\n"
    }
   }
  },
  {
   "cell_type": "code",
   "execution_count": null,
   "outputs": [],
   "source": [
    "# import numpy as np\n",
    "# import scipy.sparse as sp\n",
    "# import gurobipy as gp\n",
    "# from gurobipy import GRB\n",
    "# import os\n",
    "#\n",
    "#\n",
    "# try:\n",
    "#\n",
    "#     # Setup the Gurobi environment with the WLS license\n",
    "#     e = gp.Env(empty=True)\n",
    "#\n",
    "#     wlsaccessID = os.getenv('GRB_WLSACCESSID','undefined')\n",
    "#     e.setParam(WLSACCESSID, wlsaccessID)\n",
    "#\n",
    "#     licenseID = os.getenv('GRB_LICENSEID', '0')\n",
    "#     e.setParam(LICENSEID, int(licenseID))\n",
    "#\n",
    "#     wlsSecrets = os.getenv('GRB_WLSSECRET','undefined')\n",
    "#     e.setParam(WLSSECRET, wlsSecrets)\n",
    "#\n",
    "#     e.setParam('CSCLIENTLOG', int(3))\n",
    "#\n",
    "#     e.start()\n",
    "#\n",
    "#         # Create the model within the Gurobi environment\n",
    "#     m = gp.Model(env=e, name=\"matrix1\")\n",
    "#\n",
    "#     # Create variables\n",
    "#     x = m.addMVar(shape=3, vtype=GRB.BINARY, name=\"x\")\n",
    "#\n",
    "#     # Set objective\n",
    "#     obj = np.array([1.0, 1.0, 2.0])\n",
    "#     m.setObjective(obj @ x, GRB.MAXIMIZE)\n",
    "#\n",
    "#     # Build (sparse) constraint matrix\n",
    "#     data = np.array([1.0, 2.0, 3.0, -1.0, -1.0])\n",
    "#     row = np.array([0, 0, 0, 1, 1])\n",
    "#     col = np.array([0, 1, 2, 0, 1])\n",
    "#\n",
    "#     A = sp.csr_matrix((data, (row, col)), shape=(2, 3))\n",
    "#\n",
    "#     # Build rhs vector\n",
    "#     rhs = np.array([4.0, -1.0])\n",
    "#\n",
    "#     # Add constraints\n",
    "#     m.addConstr(A @ x <= rhs, name=\"c\")\n",
    "#\n",
    "#     # Optimize model\n",
    "#     m.optimize()\n",
    "#\n",
    "#     print(x.X)\n",
    "#     print('Obj: %g' % m.objVal)\n",
    "#\n",
    "# except gp.GurobiError as e:\n",
    "#     print('Error code ' + str(e.errno) + \": \" + str(e))\n",
    "#\n",
    "# except AttributeError:\n",
    "#     print('Encountered an attribute error')"
   ],
   "metadata": {
    "collapsed": false,
    "pycharm": {
     "name": "#%%\n"
    }
   }
  },
  {
   "cell_type": "code",
   "execution_count": null,
   "outputs": [],
   "source": [
    "from openTEPES.openTEPES import openTEPES_run"
   ],
   "metadata": {
    "collapsed": false,
    "pycharm": {
     "name": "#%%\n"
    }
   }
  },
  {
   "cell_type": "code",
   "execution_count": null,
   "outputs": [],
   "source": [
    "model = openTEPES_run('', '9n', 'cbc')"
   ],
   "metadata": {
    "collapsed": false,
    "pycharm": {
     "name": "#%%\n"
    }
   }
  }
 ],
 "metadata": {
  "kernelspec": {
   "display_name": "Python 3",
   "language": "python",
   "name": "python3"
  },
  "language_info": {
   "codemirror_mode": {
    "name": "ipython",
    "version": 2
   },
   "file_extension": ".py",
   "mimetype": "text/x-python",
   "name": "python",
   "nbconvert_exporter": "python",
   "pygments_lexer": "ipython2",
   "version": "2.7.6"
  }
 },
 "nbformat": 4,
 "nbformat_minor": 0
}